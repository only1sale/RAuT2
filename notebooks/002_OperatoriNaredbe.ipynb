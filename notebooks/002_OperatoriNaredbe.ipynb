{
 "cells": [
  {
   "cell_type": "markdown",
   "metadata": {
    "slideshow": {
     "slide_type": "slide"
    }
   },
   "source": [
    "# RAuT2\n",
    "## Operatori i Naredbe\n",
    "\n",
    "#### Aleksandar Minja <br> Oktobar 2019"
   ]
  },
  {
   "cell_type": "markdown",
   "metadata": {
    "slideshow": {
     "slide_type": "slide"
    }
   },
   "source": [
    "## Aritmetički operatori"
   ]
  },
  {
   "cell_type": "code",
   "execution_count": 2,
   "metadata": {
    "slideshow": {
     "slide_type": "fragment"
    }
   },
   "outputs": [
    {
     "name": "stdout",
     "output_type": "stream",
     "text": [
      "12\n",
      "8\n",
      "35\n",
      "0.7142857142857143\n",
      "1\n"
     ]
    }
   ],
   "source": [
    "System.out.println(5 + 7);\n",
    "System.out.println(15 -7);\n",
    "System.out.println(5 * 7);\n",
    "System.out.println(5. / 7);\n",
    "System.out.println(5 % 2); //samo za celobrojne vrednosti"
   ]
  },
  {
   "cell_type": "code",
   "execution_count": 3,
   "metadata": {
    "slideshow": {
     "slide_type": "subslide"
    }
   },
   "outputs": [
    {
     "name": "stdout",
     "output_type": "stream",
     "text": [
      "6.3 <-> 5.3\n",
      "7.3 <-> 7.3\n",
      "9.3 <-> 5.3\n"
     ]
    }
   ],
   "source": [
    "var x = 5.3;\n",
    "var y = x++;\n",
    "System.out.println(x + \" <-> \" + y);\n",
    "var y = ++x;\n",
    "System.out.println(x + \" <-> \" + y);\n",
    "x += 2;\n",
    "y -= 2;\n",
    "System.out.println(x + \" <-> \" + y);"
   ]
  },
  {
   "cell_type": "markdown",
   "metadata": {
    "slideshow": {
     "slide_type": "slide"
    }
   },
   "source": [
    "## Relacioni operatori"
   ]
  },
  {
   "cell_type": "code",
   "execution_count": 4,
   "metadata": {
    "slideshow": {
     "slide_type": "fragment"
    }
   },
   "outputs": [
    {
     "name": "stdout",
     "output_type": "stream",
     "text": [
      "false\n",
      "true\n",
      "false\n",
      "true\n",
      "false\n",
      "false\n"
     ]
    }
   ],
   "source": [
    "System.out.println(5 == 8);\n",
    "System.out.println(5 != 8);\n",
    "System.out.println(5 >= 8);\n",
    "System.out.println(5 <= 8);\n",
    "System.out.println(5 >  5);\n",
    "System.out.println(5 <  5);"
   ]
  },
  {
   "cell_type": "markdown",
   "metadata": {
    "slideshow": {
     "slide_type": "subslide"
    }
   },
   "source": [
    "## Logički operatori"
   ]
  },
  {
   "cell_type": "code",
   "execution_count": 5,
   "metadata": {
    "slideshow": {
     "slide_type": "fragment"
    }
   },
   "outputs": [
    {
     "name": "stdout",
     "output_type": "stream",
     "text": [
      "true\n",
      "false\n",
      "true\n",
      "false\n"
     ]
    }
   ],
   "source": [
    "var x = true;\n",
    "var y = false;\n",
    "System.out.println(x || y); // ili\n",
    "System.out.println(x && y); // i\n",
    "System.out.println(x && x);\n",
    "System.out.println(!(x && x)); //negacija"
   ]
  },
  {
   "cell_type": "markdown",
   "metadata": {
    "slideshow": {
     "slide_type": "subslide"
    }
   },
   "source": [
    "## Bitski operatori"
   ]
  },
  {
   "cell_type": "code",
   "execution_count": 6,
   "metadata": {
    "slideshow": {
     "slide_type": "fragment"
    }
   },
   "outputs": [
    {
     "name": "stdout",
     "output_type": "stream",
     "text": [
      "111 & 011 = 3\n",
      "111 | 011 = 7\n",
      "111 ^ 011 = 4\n"
     ]
    }
   ],
   "source": [
    "System.out.println(\"111 & 011 = \" + (7 & 3)); //bitsko i\n",
    "System.out.println(\"111 | 011 = \" + (7 | 3)); //bitsko ili\n",
    "System.out.println(\"111 ^ 011 = \" + (7 ^ 3)); //bitsko xor"
   ]
  },
  {
   "cell_type": "markdown",
   "metadata": {
    "slideshow": {
     "slide_type": "subslide"
    }
   },
   "source": [
    "## Operatori pomeraja"
   ]
  },
  {
   "cell_type": "code",
   "execution_count": 7,
   "metadata": {
    "slideshow": {
     "slide_type": "fragment"
    }
   },
   "outputs": [
    {
     "name": "stdout",
     "output_type": "stream",
     "text": [
      "111 << 2 = 11100\n",
      "111 >> 1 = 11\n",
      "111 >> 3 = 0\n"
     ]
    }
   ],
   "source": [
    "var x = 7;\n",
    "System.out.println(Integer.toBinaryString(x) + \" << 2 = \" + Integer.toBinaryString(x<<2));\n",
    "System.out.println(Integer.toBinaryString(x) + \" >> 1 = \" + Integer.toBinaryString(x>>1));\n",
    "System.out.println(Integer.toBinaryString(x) + \" >> 3 = \" + Integer.toBinaryString(x>>3));"
   ]
  },
  {
   "cell_type": "markdown",
   "metadata": {
    "slideshow": {
     "slide_type": "slide"
    }
   },
   "source": [
    "## Kontrola toka "
   ]
  },
  {
   "cell_type": "markdown",
   "metadata": {
    "slideshow": {
     "slide_type": "subslide"
    }
   },
   "source": [
    "## if else"
   ]
  },
  {
   "cell_type": "code",
   "execution_count": 14,
   "metadata": {
    "slideshow": {
     "slide_type": "fragment"
    }
   },
   "outputs": [
    {
     "name": "stdout",
     "output_type": "stream",
     "text": [
      "a je veće od b\n"
     ]
    }
   ],
   "source": [
    "var a = 9;\n",
    "var b = 5;\n",
    "if(a > b) {\n",
    "    System.out.println(\"a je veće od b\");\n",
    "}\n",
    "else if (b > a)\n",
    "    System.out.println(\"b je veće od a\");\n",
    "else\n",
    "    System.out.println(\"Jednaki su\");"
   ]
  },
  {
   "cell_type": "code",
   "execution_count": 16,
   "metadata": {
    "slideshow": {
     "slide_type": "fragment"
    }
   },
   "outputs": [
    {
     "name": "stdout",
     "output_type": "stream",
     "text": [
      "5 <-> 5\n"
     ]
    }
   ],
   "source": [
    "(a > b) ? (a = b) : (b = a);\n",
    "System.out.println(a + \" <-> \" + b);"
   ]
  },
  {
   "cell_type": "markdown",
   "metadata": {
    "slideshow": {
     "slide_type": "subslide"
    }
   },
   "source": [
    "## Switch"
   ]
  },
  {
   "cell_type": "code",
   "execution_count": 17,
   "metadata": {
    "slideshow": {
     "slide_type": "fragment"
    }
   },
   "outputs": [],
   "source": [
    "//--enable-preview\n",
    "//var x = 5;\n",
    "//switch(x) {\n",
    "//    case 1 -> System.out.println(\"Ponedeljak\");\n",
    "//    case 5 -> System.out.println(\"Petak\");\n",
    "//    default -> System.out.println(\"Sreda\");        \n",
    "//}"
   ]
  },
  {
   "cell_type": "code",
   "execution_count": 18,
   "metadata": {},
   "outputs": [
    {
     "ename": "CompilationException",
     "evalue": "",
     "output_type": "error",
     "traceback": [
      "\u001b[1m\u001b[30m|   \u001b[1m\u001b[30m\u001b[0m\u001b[1m\u001b[30m\u001b[41m\u001b[0m\u001b[1m\u001b[30mswitch(y) {\u001b[0m",
      "\u001b[1m\u001b[31mswitch expressions are a preview feature and are disabled by default.\u001b[0m",
      "\u001b[1m\u001b[31m  (use --enable-preview to enable switch expressions)\u001b[0m",
      ""
     ]
    }
   ],
   "source": [
    "var y = 7;\n",
    "var x = 5;\n",
    "switch(y) {\n",
    "    case 1: \n",
    "        x = y;\n",
    "        break;\n",
    "    case 2:\n",
    "        x = 1000;\n",
    "        break;\n",
    "    default:\n",
    "        x = 0;\n",
    "        break;\n",
    "}\n",
    "System.out.println(x);"
   ]
  },
  {
   "cell_type": "markdown",
   "metadata": {
    "slideshow": {
     "slide_type": "subslide"
    }
   },
   "source": [
    "## For"
   ]
  },
  {
   "cell_type": "code",
   "execution_count": 19,
   "metadata": {
    "slideshow": {
     "slide_type": "fragment"
    }
   },
   "outputs": [
    {
     "name": "stdout",
     "output_type": "stream",
     "text": [
      "1\n",
      "2\n",
      "3\n",
      "4\n",
      "5\n",
      "6\n",
      "7\n",
      "8\n",
      "9\n",
      "10\n"
     ]
    }
   ],
   "source": [
    "for(var i = 0; i < 10; ++i) {\n",
    "    System.out.println(i+1);\n",
    "}"
   ]
  },
  {
   "cell_type": "markdown",
   "metadata": {
    "slideshow": {
     "slide_type": "subslide"
    }
   },
   "source": [
    "## While"
   ]
  },
  {
   "cell_type": "code",
   "execution_count": 20,
   "metadata": {
    "slideshow": {
     "slide_type": "fragment"
    }
   },
   "outputs": [
    {
     "name": "stdout",
     "output_type": "stream",
     "text": [
      "9\n",
      "8\n",
      "7\n",
      "6\n",
      "5\n",
      "4\n",
      "3\n",
      "2\n",
      "1\n",
      "0\n"
     ]
    }
   ],
   "source": [
    "var i = 10;\n",
    "while(i > 0) { //izlaz na vrhu\n",
    "    System.out.println(--i);\n",
    "}"
   ]
  },
  {
   "cell_type": "markdown",
   "metadata": {
    "slideshow": {
     "slide_type": "subslide"
    }
   },
   "source": [
    "## Do While"
   ]
  },
  {
   "cell_type": "code",
   "execution_count": 21,
   "metadata": {
    "slideshow": {
     "slide_type": "fragment"
    }
   },
   "outputs": [
    {
     "name": "stdout",
     "output_type": "stream",
     "text": [
      "9\n",
      "8\n",
      "7\n",
      "6\n",
      "5\n",
      "4\n",
      "3\n",
      "2\n",
      "1\n",
      "0\n"
     ]
    }
   ],
   "source": [
    "var i = 10;\n",
    "do {\n",
    "    System.out.println(--i);\n",
    "}while(i > 0); //izlaz na dnu"
   ]
  },
  {
   "cell_type": "markdown",
   "metadata": {
    "slideshow": {
     "slide_type": "subslide"
    }
   },
   "source": [
    "## Break i continue"
   ]
  },
  {
   "cell_type": "code",
   "execution_count": 22,
   "metadata": {
    "slideshow": {
     "slide_type": "fragment"
    }
   },
   "outputs": [
    {
     "name": "stdout",
     "output_type": "stream",
     "text": [
      "9\n",
      "8\n",
      "7\n",
      "6\n",
      "Vrednost i: 5\n"
     ]
    }
   ],
   "source": [
    "var i = 10;\n",
    "while(i > 0) {\n",
    "    --i;\n",
    "    if(i > 5)\n",
    "        System.out.println(i);\n",
    "    else\n",
    "        break;\n",
    "}\n",
    "System.out.println(\"Vrednost i: \" + i);"
   ]
  },
  {
   "cell_type": "code",
   "execution_count": 23,
   "metadata": {
    "slideshow": {
     "slide_type": "subslide"
    }
   },
   "outputs": [
    {
     "name": "stdout",
     "output_type": "stream",
     "text": [
      "9\n",
      "8\n",
      "7\n",
      "6\n",
      "Vrednost i: 0\n"
     ]
    }
   ],
   "source": [
    "var i = 10;\n",
    "while(i > 0) {\n",
    "    --i;\n",
    "    if(i > 5)\n",
    "        System.out.println(i);\n",
    "    else\n",
    "        continue;\n",
    "}\n",
    "System.out.println(\"Vrednost i: \" + i);"
   ]
  },
  {
   "cell_type": "code",
   "execution_count": 24,
   "metadata": {
    "slideshow": {
     "slide_type": "subslide"
    }
   },
   "outputs": [
    {
     "name": "stdout",
     "output_type": "stream",
     "text": [
      "(i, j) = (0, 0)\n",
      "(i, j) = (1, 0)\n",
      "(i, j) = (2, 0)\n",
      "(i, j) = (2, 1)\n",
      "(i, j) = (2, 2)\n",
      "(i, j) = (2, 3)\n"
     ]
    }
   ],
   "source": [
    "for(var i = 0; i < 3; ++i) {\n",
    "    var j = 0;\n",
    "    for(j = 0; j < 3; ++j) {\n",
    "        if(i > 1)\n",
    "            System.out.println(\"(i, j) = (\" + i + \", \" + j + \")\");\n",
    "        else\n",
    "            break; //break prekida samo unutrasnju petlju!\n",
    "    }\n",
    "    System.out.println(\"(i, j) = (\" + i + \", \" + j + \")\");\n",
    "}"
   ]
  },
  {
   "cell_type": "code",
   "execution_count": null,
   "metadata": {},
   "outputs": [],
   "source": []
  }
 ],
 "metadata": {
  "celltoolbar": "Slideshow",
  "kernelspec": {
   "display_name": "Java",
   "language": "java",
   "name": "java"
  },
  "language_info": {
   "codemirror_mode": "java",
   "file_extension": ".jshell",
   "mimetype": "text/x-java-source",
   "name": "Java",
   "pygments_lexer": "java",
   "version": "12.0.2+10"
  }
 },
 "nbformat": 4,
 "nbformat_minor": 2
}
