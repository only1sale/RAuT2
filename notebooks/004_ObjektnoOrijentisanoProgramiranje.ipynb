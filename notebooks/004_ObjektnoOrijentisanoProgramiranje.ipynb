{
 "cells": [
  {
   "cell_type": "markdown",
   "metadata": {},
   "source": [
    "# RAuT2\n",
    "## Objektno Orijentisano Programiranje\n",
    "\n",
    "#### Aleksandar Minja <br> Oktobar 2019"
   ]
  },
  {
   "cell_type": "markdown",
   "metadata": {},
   "source": [
    "U matematici (teoriji skupova), klasa predstavlja kolekciju matematičkih objekata, koji su jedinstveno oređeni svojim osobinama (atributima). Sličan koncept je prisutan i u programiranju. \n",
    "\n",
    "![](https://www.mathsisfun.com/sets/images/set-clothes.svg)\n",
    "\n",
    "U računarskim naukama, klasa (često nazvana i korisnički definisan tip) predstavlja mehanizam za definisanje strukture (osobina) objekata. Svi objekti iste klase imaju iste atribute, ali se same vrednosti atributa mogu razlikovati. Obično su atributi neki primitivni tipovi, ili druge klase. Klasa može da sadrži i metode (funkcije) koje se obavljaju nad objektima klase.\n",
    "\n",
    "Svaka klasa sadrži specijalni metod (konstruktor) koji je zadužen za kreiranje objekata te klase. Konstruktor uvek postoji i ukoliko korisnik ne definiše konstruktor, klasa će napraviti podrazumevani (eng. default) konstruktor. [Tutor kod](http://www.pythontutor.com/java.html#code=public%20class%20YourClassNameHere%20%7B%0A%20%20%20%20static%20class%20Krug%20%7B%0A%20%20%20%20%20%20double%20r%3B%0A%20%20%20%20%20%20%0A%20%20%20%20%20%20public%20Krug%28double%20rr%29%20%7B%0A%20%20%20%20%20%20%20%20this.r%20%3D%20rr%3B%0A%20%20%20%20%20%20%7D%0A%20%20%20%20%20%20%0A%20%20%20%20%20%20public%20double%20povrsina%28%29%20%7B%0A%20%20%20%20%20%20%20%20return%20r%20*%20r%20*%20Math.PI%3B%0A%20%20%20%20%20%20%7D%0A%20%20%20%20%20%20%0A%20%20%20%20%20%20public%20double%20obim%28%29%20%7B%0A%20%20%20%20%20%20%20%20return%202%20*%20r%20*%20Math.PI%3B%0A%20%20%20%20%20%20%7D%0A%20%20%20%20%7D%0A%20%20%0A%20%20%20%20public%20static%20void%20main%28String%5B%5D%20args%29%20%7B%0A%20%20%20%20%20%20Krug%20k%20%3D%20new%20Krug%283.%29%3B%0A%20%20%20%20%20%20%0A%20%20%20%20%20%20double%20P%20%3D%20k.povrsina%28%29%3B%0A%20%20%20%20%20%20double%20O%20%3D%20k.obim%28%29%3B%0A%20%20%20%20%7D%0A%7D&cumulative=false&curInstr=0&heapPrimitives=nevernest&mode=display&origin=opt-frontend.js&py=java&rawInputLstJSON=%5B%5D&textReferences=false)"
   ]
  },
  {
   "cell_type": "code",
   "execution_count": 12,
   "metadata": {},
   "outputs": [],
   "source": [
    "class Krug {\n",
    "    double r;\n",
    "    \n",
    "    public Krug(double rr) {\n",
    "        r = rr;\n",
    "    }\n",
    "    \n",
    "    public double povrsina() {\n",
    "        return r * r * Math.PI;\n",
    "    }\n",
    "    \n",
    "    public double obim() {\n",
    "        return 2 * r * Math.PI;\n",
    "    }\n",
    "}\n",
    "\n",
    "Krug k = new Krug(3);"
   ]
  },
  {
   "cell_type": "code",
   "execution_count": 13,
   "metadata": {},
   "outputs": [
    {
     "name": "stdout",
     "output_type": "stream",
     "text": [
      "P = 28.274333882308138\n",
      "O = 18.84955592153876\n"
     ]
    }
   ],
   "source": [
    "System.out.println(\"P = \" + k.povrsina());\n",
    "System.out.println(\"O = \" + k.obim());"
   ]
  },
  {
   "cell_type": "markdown",
   "metadata": {},
   "source": [
    "[Tutor kod](http://www.pythontutor.com/java.html#code=public%20class%20YourClassNameHere%20%7B%0A%20%20%20%20static%20class%20Tacka%20%7B%0A%20%20%20%20%20%20%20%20double%20x%3B%0A%20%20%20%20%20%20%20%20double%20y%3B%0A%20%20%20%20%20%20%20%20%0A%20%20%20%20%20%20%20%20public%20Tacka%28double%20x,%20double%20y%29%20%7B%0A%20%20%20%20%20%20%20%20%20%20%20%20this.x%20%3D%20x%3B%0A%20%20%20%20%20%20%20%20%20%20%20%20this.y%20%3D%20y%3B%0A%20%20%20%20%20%20%20%20%7D%0A%20%20%20%20%20%20%20%20%0A%20%20%20%20%20%20%20%20public%20Tacka%28%29%20%7B%0A%20%20%20%20%20%20%20%20%20%20%20%20x%20%3D%200.%3B%0A%20%20%20%20%20%20%20%20%20%20%20%20y%20%3D%200.%3B%0A%20%20%20%20%20%20%20%20%7D%0A%20%20%20%20%20%20%20%20%0A%20%20%20%20%20%20%20%20public%20double%20dist%28Tacka%20t%29%20%7B%0A%20%20%20%20%20%20%20%20%20%20%20%20return%20Math.sqrt%28%28t.x%20-%20x%29*%28t.x%20-%20x%29%20%2B%20%28t.y%20-%20y%29*%28t.y%20-%20y%29%29%3B%0A%20%20%20%20%20%20%20%20%7D%0A%20%20%20%20%20%20%20%20%0A%20%20%20%20%7D%0A%20%20%20%20%0A%20%20%20%20static%20class%20Krug%20%7B%0A%20%20%20%20%20%20Tacka%20c%3B%0A%20%20%20%20%20%20double%20r%3B%0A%20%20%20%20%20%20%0A%20%20%20%20%20%20public%20Krug%28double%20r%29%20%7B%0A%20%20%20%20%20%20%20%20c%20%3D%20new%20Tacka%28%29%3B%0A%20%20%20%20%20%20%20%20this.r%20%3D%20r%3B%0A%20%20%20%20%20%20%7D%0A%20%20%20%20%20%20%0A%20%20%20%20%20%20public%20Krug%28double%20r,%20Tacka%20t%29%20%7B%0A%20%20%20%20%20%20%20%20this.r%20%3D%20r%3B%0A%20%20%20%20%20%20%20%20c%20%3D%20t%3B%0A%20%20%20%20%20%20%7D%0A%20%20%20%20%20%20%0A%20%20%20%20%20%20boolean%20isInside%28Tacka%20t%29%20%7B%0A%20%20%20%20%20%20%20%20return%20c.dist%28t%29%20%3C%20r%3B%0A%20%20%20%20%20%20%7D%0A%20%20%20%20%7D%0A%20%20%20%20%0A%20%20%20%20public%20static%20void%20main%28String%5B%5D%20args%29%20%7B%0A%20%20%20%20%20%20Tacka%20t1%20%3D%20new%20Tacka%285,%203%29%3B%0A%20%20%20%20%20%20Tacka%20t2%20%3D%20new%20Tacka%283,%202%29%3B%0A%20%20%20%20%20%20Krug%20k%20%3D%20new%20Krug%281,%20t1%29%3B%0A%20%20%20%20%20%20boolean%20answ%20%3D%20k.isInside%28t2%29%3B%0A%20%20%20%20%7D%0A%7D&cumulative=false&curInstr=0&heapPrimitives=nevernest&mode=display&origin=opt-frontend.js&py=java&rawInputLstJSON=%5B%5D&textReferences=false)"
   ]
  },
  {
   "cell_type": "code",
   "execution_count": 14,
   "metadata": {},
   "outputs": [],
   "source": [
    "class Tacka {\n",
    "    double x;\n",
    "    double y;\n",
    "    \n",
    "    public Tacka(double x, double y) {\n",
    "        this.x = x;\n",
    "        this.y = y;\n",
    "    }\n",
    "    \n",
    "    public Tacka() {\n",
    "        x = 0.;\n",
    "        y = 0.;\n",
    "    }\n",
    "    \n",
    "    public double dist(Tacka t) {\n",
    "        return Math.sqrt((t.x - x)*(t.x - x) + (t.y - y)*(t.y - y));\n",
    "    }\n",
    "    \n",
    "}"
   ]
  },
  {
   "cell_type": "code",
   "execution_count": 15,
   "metadata": {},
   "outputs": [
    {
     "name": "stdout",
     "output_type": "stream",
     "text": [
      "2.23606797749979\n"
     ]
    }
   ],
   "source": [
    "Tacka t1 = new Tacka(5, 6);\n",
    "Tacka t2 = new Tacka(3, 7);\n",
    "System.out.println(t1.dist(t2));"
   ]
  },
  {
   "cell_type": "raw",
   "metadata": {},
   "source": [
    "Inicijalne vrednosti:\n",
    "\n",
    "Primitivni tip \t  Default\n",
    "boolean\t\t      false\n",
    "char\t \t\t  ‘\\u0000’\n",
    "byte \t\t      0\n",
    "short \t\t      0\n",
    "int \t\t\t  0\n",
    "long \t\t      0L\n",
    "float \t\t      0.0f\n",
    "double \t\t      0.0d\n",
    "\n",
    "Reference         null\n",
    "\n",
    "Lokalne promenljive nemaju predefinisanu vrednost - upotreba pre inicijalizacije izaziva grešku prilikom kompajliranja.\n"
   ]
  },
  {
   "cell_type": "code",
   "execution_count": 16,
   "metadata": {},
   "outputs": [],
   "source": [
    "class Krug {\n",
    "  Tacka c;\n",
    "  double r;\n",
    "\n",
    "  public Krug(double r) {\n",
    "    c = new Tacka();\n",
    "    this.r = r;\n",
    "  }\n",
    "\n",
    "  public Krug(double r, Tacka t) {\n",
    "    this.r = r;\n",
    "    c = t;\n",
    "  }\n",
    "\n",
    "  boolean isInside(Tacka t) {\n",
    "    return c.dist(t) < r;\n",
    "  }\n",
    "}"
   ]
  },
  {
   "cell_type": "code",
   "execution_count": 17,
   "metadata": {},
   "outputs": [
    {
     "name": "stdout",
     "output_type": "stream",
     "text": [
      "false\n"
     ]
    }
   ],
   "source": [
    "Tacka t1 = new Tacka(5, 3);\n",
    "Tacka t2 = new Tacka(3, 2);\n",
    "Krug k = new Krug(1, t1);\n",
    "boolean b = k.isInside(t2);\n",
    "System.out.println(b);"
   ]
  },
  {
   "cell_type": "code",
   "execution_count": null,
   "metadata": {},
   "outputs": [],
   "source": []
  }
 ],
 "metadata": {
  "kernelspec": {
   "display_name": "Java",
   "language": "java",
   "name": "java"
  },
  "language_info": {
   "codemirror_mode": "java",
   "file_extension": ".jshell",
   "mimetype": "text/x-java-source",
   "name": "Java",
   "pygments_lexer": "java",
   "version": "12.0.2+10"
  }
 },
 "nbformat": 4,
 "nbformat_minor": 2
}
