{
 "cells": [
  {
   "cell_type": "code",
   "execution_count": 1,
   "metadata": {},
   "outputs": [],
   "source": [
    "import javax.swing.*;  "
   ]
  },
  {
   "cell_type": "code",
   "execution_count": 2,
   "metadata": {},
   "outputs": [],
   "source": [
    "JFrame f=new JFrame();//creating instance of JFrame  "
   ]
  },
  {
   "cell_type": "code",
   "execution_count": 4,
   "metadata": {},
   "outputs": [],
   "source": [
    "JButton b=new JButton(\"click\");//creating instance of JButton  \n",
    "b.setBounds(130,100,100, 40);//x axis, y axis, width, height  \n",
    "          \n",
    "f.add(b);//adding button in JFrame  \n",
    "\n",
    "f.setSize(400,500);//400 width and 500 height  \n",
    "f.setLayout(null);//using no layout managers  \n",
    "f.setVisible(true);//making the frame visible  "
   ]
  },
  {
   "cell_type": "code",
   "execution_count": null,
   "metadata": {},
   "outputs": [],
   "source": []
  }
 ],
 "metadata": {
  "kernelspec": {
   "display_name": "Java",
   "language": "java",
   "name": "java"
  },
  "language_info": {
   "codemirror_mode": "java",
   "file_extension": ".jshell",
   "mimetype": "text/x-java-source",
   "name": "Java",
   "pygments_lexer": "java",
   "version": "13.0.2+8"
  }
 },
 "nbformat": 4,
 "nbformat_minor": 4
}
