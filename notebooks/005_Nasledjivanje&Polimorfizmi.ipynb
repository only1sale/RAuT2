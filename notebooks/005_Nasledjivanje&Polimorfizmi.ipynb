{
 "cells": [
  {
   "cell_type": "markdown",
   "metadata": {},
   "source": [
    "# RAuT2\n",
    "## OOP - Nasleđivanje i polimorfizam\n",
    "\n",
    "#### Aleksandar Minja <br> Oktobar 2019"
   ]
  },
  {
   "cell_type": "markdown",
   "metadata": {},
   "source": [
    "Postoji nekoliko veza između klasa:\n",
    "1. Asocijacija: klase mogu da postoje nezavisno jedna od drugih\n",
    "2. Kompozicija (agregacija): klasa A je sastavni deo klase B\n",
    "3. Nasleđivanje: klasa A je izvedena iz klase B\n",
    "\n",
    "Nasleđivanje:\n",
    " * Preuzimanje atributa i metoda iz roditeljske klase\n",
    " * Jednu roditeljsku klasu može da nasledi više klasa naslednica\n",
    " * Jedna klasa može da nasledi samo jednu roditeljsku klasu (jednostruko nasleđivanje)\n",
    "\n",
    "Nasleđivanje se radi pomoću ključne reči **extends**. Pristup elementima iz roditeljske klase je moguć pomoću ključne reči **super**. Pristup elementima zavisi od modifikatora pristupa:\n",
    " * public – vidljiv za sve klase\n",
    " * protected – vidljiv samo za klase naslednice i klase iz istog paketa\n",
    " * private – vidljiv samo unutar svoje klase\n",
    " * nenaveden (friendly) – vidljiv samo za klase iz istog paketa (direktorijuma, foldera)\n",
    "\n",
    "[Tutor Primer.](http://www.pythontutor.com/java.html#code=public%20class%20YourClassNameHere%20%7B%0A%20%20%20%20static%20class%20Osoba%20%7B%0A%20%20%20%20%20%20%20%20String%20JMBG%3B%0A%20%20%20%20%20%20%20%20String%20ime%3B%0A%20%20%20%20%20%20%20%20protected%20String%20prezime%3B%0A%20%20%20%20%20%20%20%20private%20int%20godina%3B%0A%20%20%20%20%20%20%20%20%0A%20%20%20%20%20%20%20%20public%20Osoba%28String%20s1,%20String%20s2,%20String%20s3%29%20%7B%0A%20%20%20%20%20%20%20%20%20%20%20%20JMBG%20%3D%20s1%3B%0A%20%20%20%20%20%20%20%20%20%20%20%20ime%20%3D%20s2%3B%0A%20%20%20%20%20%20%20%20%20%20%20%20prezime%20%3D%20s3%3B%0A%20%20%20%20%20%20%20%20%7D%0A%20%20%20%20%20%20%20%20%0A%20%20%20%20%20%20%20%20%0A%20%20%20%20%20%20%20%20public%20Osoba%28String%20s1,%20String%20s2,%20String%20s3,%20int%20g%29%20%7B%0A%20%20%20%20%20%20%20%20%20%20%20%20JMBG%20%3D%20s1%3B%0A%20%20%20%20%20%20%20%20%20%20%20%20ime%20%3D%20s2%3B%0A%20%20%20%20%20%20%20%20%20%20%20%20prezime%20%3D%20s3%3B%0A%20%20%20%20%20%20%20%20%20%20%20%20godina%20%3D%20g%3B%0A%20%20%20%20%20%20%20%20%7D%0A%20%20%20%20%20%20%20%20%0A%20%20%20%20%20%20%20%20%40Override%0A%20%20%20%20%20%20%20%20public%20String%20toString%28%29%20%7B%0A%20%20%20%20%20%20%20%20%20%20%20%20return%20ime%20%2B%20%22%20%22%20%2B%20prezime%20%2B%20%22,%20%28%22%20%2B%20JMBG%20%2B%20%22%29%22%3B%0A%20%20%20%20%20%20%20%20%7D%0A%20%20%20%20%7D%0A%0A%20%20%20%20static%20class%20Student%20extends%20Osoba%20%7B%0A%20%20%20%20%20%20%20%20String%20index%3B%0A%20%20%20%20%20%20%20%20String%20smer%3B%0A%20%20%20%20%20%20%20%20int%20godina%3B%0A%20%20%20%20%20%20%20%20%0A%20%20%20%20%20%20%20%20public%20Student%28String%20s1,%20String%20s2,%20String%20s3,%20int%20g,%20String%20s4,%20String%20s5,%20int%20g1%29%20%7B%0A%20%20%20%20%20%20%20%20%20%20%20%20super%28s1,s2,s3,g%29%3B%20//poziv%20roditeljskog%20konstruktora%0A%20%20%20%20%20%20%20%20%20%20%20%20index%20%3D%20s4%3B%0A%20%20%20%20%20%20%20%20%20%20%20%20smer%20%3D%20s5%3B%0A%20%20%20%20%20%20%20%20%20%20%20%20godina%20%3D%20g1%3B%0A%20%20%20%20%20%20%20%20%7D%0A%20%20%20%20%20%20%20%20%0A%20%20%20%20%20%20%20%20%40Override%0A%20%20%20%20%20%20%20%20public%20String%20toString%28%29%20%7B%0A%20%20%20%20%20%20%20%20%20%20%20%20return%20super.toString%28%29%20%2B%20%22%5B%22%20%2B%20index%20%2B%20%22/%22%20%2B%20godina%20%2B%20%22%5D%22%3B%0A%20%20%20%20%20%20%20%20%7D%0A%20%20%20%20%20%20%20%20%0A%20%20%20%20%20%20%20%20public%20String%20getUserName%28%29%20%7B%0A%20%20%20%20%20%20%20%20%20%20%20%20return%20super.ime%20%2B%20super.prezime%20%2B%20%22_%22%20%2B%20index%3B%20//ime%20je%20friendly,%20prezime%20je%20protected%0A%20%20%20%20%20%20%20%20%7D%0A%20%20%20%20%7D%0A%20%20%20%20%0A%20%20%20%20public%20static%20void%20main%28String%5B%5D%20args%29%20%7B%0A%20%20%20%20%20%20Osoba%20o%20%3D%20new%20Osoba%28%221907987565522%22,%20%22Pera%22,%20%22Peri%C4%87%22%29%3B%0A%20%20%20%20%20%20Student%20s%20%3D%20new%20Student%28%221907987565522%22,%20%22Pera%22,%20%22Peri%C4%87%22,19,%22EE15/2015%22,%22KTIOS%22,3%29%3B%0A%20%20%20%20%20%20%0A%20%20%20%20%20%20System.out.println%28o%29%3B%0A%20%20%20%20%20%20System.out.println%28s%29%3B%0A%20%20%20%20%20%20System.out.println%28s.getUserName%28%29%29%3B%0A%20%20%20%20%7D%0A%7D&cumulative=false&curInstr=0&heapPrimitives=nevernest&mode=display&origin=opt-frontend.js&py=java&rawInputLstJSON=%5B%5D&textReferences=false)"
   ]
  },
  {
   "cell_type": "code",
   "execution_count": null,
   "metadata": {},
   "outputs": [],
   "source": [
    "class Osoba {\n",
    "    String JMBG;\n",
    "    String ime;\n",
    "    protected String prezime;\n",
    "    private int godina;\n",
    "    \n",
    "    public Osoba(String s1, String s2, String s3) {\n",
    "        JMBG = s1;\n",
    "        ime = s2;\n",
    "        prezime = s3;\n",
    "    }\n",
    "    \n",
    "    \n",
    "    public Osoba(String s1, String s2, String s3, int g) {\n",
    "        JMBG = s1;\n",
    "        ime = s2;\n",
    "        prezime = s3;\n",
    "        godina = g;\n",
    "    }\n",
    "    \n",
    "    @Override\n",
    "    public String toString() {\n",
    "        return ime + \" \" + prezime + \", (\" + JMBG + \")\";\n",
    "    }\n",
    "}\n",
    "\n",
    "class Student extends Osoba {\n",
    "    String index;\n",
    "    String smer;\n",
    "    int godina;\n",
    "    \n",
    "    public Student(String s1, String s2, String s3, int g, String s4, String s5, int g1) {\n",
    "        super(s1,s2,s3,g); //poziv roditeljskog konstruktora\n",
    "        index = s4;\n",
    "        smer = s5;\n",
    "        godina = g1;\n",
    "    }\n",
    "    \n",
    "    @Override\n",
    "    public String toString() {\n",
    "        return super.toString() + \"[\" + index + \"/\" + godina + \"]\";\n",
    "    }\n",
    "    \n",
    "    public String getUserName() {\n",
    "        return super.ime + super.prezime + \"_\" + index; //ime je friendly, prezime je protected\n",
    "    }\n",
    "}"
   ]
  },
  {
   "cell_type": "code",
   "execution_count": null,
   "metadata": {},
   "outputs": [],
   "source": [
    "var o = new Osoba(\"1907987565522\", \"Pera\", \"Perić\");\n",
    "var s = new Student(\"1907987565522\", \"Pera\", \"Perić\",19,\"EE15/2015\",\"KTIOS\",3);\n",
    "\n",
    "System.out.println(o);\n",
    "System.out.println(s);\n",
    "System.out.println(s.getUserName());"
   ]
  },
  {
   "cell_type": "markdown",
   "metadata": {},
   "source": [
    "Abstraktna klasa je klasa koja ne može imati objekte, ali može biti nasleđena. Ukoliko želimo da klasa naslednica ima objekte, potrebno je prvo implementirati (*override*-ovati) sve abstraktne metode abstraktne klase. Abstraktna klasa i abstraktne metode se deklarišu pomoću ključne reči **abstract**. Ukoliko klasa ima bar jednu abstraktnu metodu, onda i ona mora biti abstraktna. Iako abstraktna klasa ne može da ima objekte, može da ima reference. "
   ]
  },
  {
   "cell_type": "code",
   "execution_count": null,
   "metadata": {},
   "outputs": [],
   "source": [
    "abstract class Instrument {\n",
    "    String ime;\n",
    "    \n",
    "    public Instrument(String s) {\n",
    "        ime = s;\n",
    "    }\n",
    "    \n",
    "    public abstract void sviraj();\n",
    "}\n",
    "\n",
    "class Klavir extends Instrument {\n",
    "    public Klavir() {\n",
    "        super(\"Klavir\");\n",
    "    }\n",
    "    \n",
    "    @Override \n",
    "    public void sviraj() {\n",
    "        System.out.println(\"Klavir svira ... \");\n",
    "    }\n",
    "}\n",
    "\n",
    "class Violina extends Instrument {\n",
    "    public Violina() {\n",
    "        super(\"Violina\");\n",
    "    }\n",
    "    \n",
    "    @Override \n",
    "    public void sviraj() {\n",
    "        System.out.println(\"Violina svira ... \");\n",
    "    }\n",
    "}"
   ]
  },
  {
   "cell_type": "code",
   "execution_count": null,
   "metadata": {},
   "outputs": [],
   "source": [
    "Instrument orkestar[] = {new Klavir(), new Violina(), new Violina()};\n",
    "for(var i : orkestar)\n",
    "    i.sviraj();"
   ]
  },
  {
   "cell_type": "markdown",
   "metadata": {},
   "source": [
    "Polimorfizam jeste jedan od osnovnhih principa objektno-orijentisanog programiranja. Pod polimorfizmom smatramo da imamo različito ponašanje programa u zavisnosti od korišćenja. Jedan način da se ostvari polimorfizam jeste da pozivamo metod roditeljske klase, a da se zapravo poziva metod neke od izvedenih klasa koje nasleđuju baznu klasu, kao što je prikazano u prethodnom primeru. Kako je u Javi moguće samo jednostruko nasleđivanje, uvedeni su Interfejsi. Klasa može da nasledi samo jednu roditeljsku klasu, ali može da implementira proizvoljno mnogo interfejsa. Interfejsi: \n",
    "* Omogućavaju definisanje samo apstraktnih metoda, konstanti i statičkih atributa\n",
    "* Interfejs nije klasa već \"spisak metoda i atributa\" koje klasa koja implementira interfejs mora da poseduje.\n",
    "* Sve metode su implicitno public, a svi atributi su implicitno public static final.\n",
    "* Interfejsi se ne nasleđuju, već implementiraju (ključna reč **implements**)\n",
    "* Da bi klasa implementirala interfejs, mora da redefiniše sve njegove metode\n",
    "* Jedan interfejs može da nasledi drugog (**extends**)\n",
    "\n",
    "[Tutor primer](http://www.pythontutor.com/java.html#code=public%20class%20YourClassNameHere%20%7B%0A%20%20%20%20interface%20Phone%20%7B%0A%20%20%20%20%20%20%20%20void%20zovi%28String%20broj%29%3B%0A%20%20%20%20%7D%0A%20%20%20%20%0A%20%20%20%20interface%20Player%20%7B%0A%20%20%20%20%20%20%20%20void%20play%28%29%3B%0A%20%20%20%20%20%20%20%20void%20stop%28%29%3B%0A%20%20%20%20%7D%0A%20%20%20%20%0A%20%20%20%20interface%20Camera%20%7B%0A%20%20%20%20%20%20%20%20void%20takePicture%28%29%3B%0A%20%20%20%20%20%20%20%20void%20takeVideo%28%29%3B%0A%20%20%20%20%7D%0A%20%20%20%20%0A%20%20%20%20static%20class%20SmartPhone%20implements%20Phone,%20Player,%20Camera%20%7B%0A%20%20%20%20%20%20%20%20%40Override%0A%20%20%20%20%20%20%20%20public%20void%20zovi%28String%20broj%29%20%7B%0A%20%20%20%20%20%20%20%20%20%20%20%20System.out.println%28%22Pozovi%20%22%20%2B%20broj%29%3B%0A%20%20%20%20%20%20%20%20%7D%0A%20%20%20%20%20%20%20%20%0A%20%20%20%20%20%20%20%20%40Override%0A%20%20%20%20%20%20%20%20public%20void%20play%28%29%20%7B%0A%20%20%20%20%20%20%20%20%20%20%20%20System.out.println%28%22Pusti%20pesmu%22%29%3B%0A%20%20%20%20%20%20%20%20%7D%0A%20%20%20%20%20%20%20%20%0A%20%20%20%20%20%20%20%20%40Override%0A%20%20%20%20%20%20%20%20public%20void%20stop%28%29%20%7B%0A%20%20%20%20%20%20%20%20%20%20%20%20System.out.println%28%22Zaustavi%20pesmu%22%29%3B%0A%20%20%20%20%20%20%20%20%7D%0A%20%20%20%20%20%20%20%20%0A%20%20%20%20%20%20%20%20%40Override%0A%20%20%20%20%20%20%20%20public%20void%20takePicture%28%29%20%20%7B%0A%20%20%20%20%20%20%20%20%20%20%20%20System.out.println%28%22Slikaj%22%29%3B%0A%20%20%20%20%20%20%20%20%7D%0A%20%20%20%20%20%20%20%20public%20void%20takeVideo%28%29%20%7B%0A%20%20%20%20%20%20%20%20%20%20%20%20System.out.println%28%22Snimi%20video%22%29%3B%0A%20%20%20%20%20%20%20%20%7D%0A%20%20%20%20%7D%0A%20%20%20%20%0A%20%20%20%20static%20class%20HomePhone%20implements%20Phone%20%7B%0A%20%20%20%20%20%20%20%20%40Override%0A%20%20%20%20%20%20%20%20public%20void%20zovi%28String%20broj%29%20%7B%0A%20%20%20%20%20%20%20%20%20%20%20%20System.out.println%28%22Zovi%20sa%20kucnog%3A%20%22%20%2B%20broj%29%3B%0A%20%20%20%20%20%20%20%20%7D%0A%20%20%20%20%20%20%20%20%0A%20%20%20%20%7D%0A%20%20%20%20public%20static%20void%20main%28String%5B%5D%20args%29%20%7B%0A%20%20%20%20%20%20SmartPhone%20s%20%3D%20new%20SmartPhone%28%29%3B%0A%20%20%20%20%20%20s.zovi%28%22%2B381695695245%22%29%3B%0A%20%20%20%20%20%20s.play%28%29%3B%0A%20%20%20%20%20%20s.stop%28%29%3B%0A%20%20%20%20%20%20s.takePicture%28%29%3B%0A%20%20%20%20%20%20%0A%20%20%20%20%20%20Phone%20telefonofon%5B%5D%20%3D%20%7Bnew%20SmartPhone%28%29,%20new%20HomePhone%28%29%7D%3B%0A%20%20%20%20%20%20%0A%20%20%20%20%20%20telefonofon%5B0%5D.zovi%28%22195%22%29%3B%0A%20%20%20%20%20%20telefonofon%5B1%5D.zovi%28%22194%22%29%3B%0A%20%20%20%20%7D%0A%7D&cumulative=false&curInstr=0&heapPrimitives=nevernest&mode=display&origin=opt-frontend.js&py=java&rawInputLstJSON=%5B%5D&textReferences=false)."
   ]
  },
  {
   "cell_type": "code",
   "execution_count": null,
   "metadata": {},
   "outputs": [],
   "source": [
    "interface Phone {\n",
    "    void zovi(String broj);\n",
    "}\n",
    "\n",
    "interface Player {\n",
    "    void play();\n",
    "    void stop();\n",
    "}\n",
    "\n",
    "interface Camera {\n",
    "    void takePicture();\n",
    "    void takeVideo();\n",
    "}\n",
    "\n",
    "class SmartPhone implements Phone, Player, Camera {\n",
    "    @Override\n",
    "    public void zovi(String broj) {\n",
    "        System.out.println(\"Pozovi \" + broj);\n",
    "    }\n",
    "    \n",
    "    @Override\n",
    "    public void play() {\n",
    "        System.out.println(\"Pusti pesmu\");\n",
    "    }\n",
    "    \n",
    "    @Override\n",
    "    public void stop() {\n",
    "        System.out.println(\"Zaustavi pesmu\");\n",
    "    }\n",
    "    \n",
    "    @Override\n",
    "    public void takePicture()  {\n",
    "        System.out.println(\"Slikaj\");\n",
    "    }\n",
    "    public void takeVideo() {\n",
    "        System.out.println(\"Snimi video\");\n",
    "    }\n",
    "}\n",
    "\n",
    "class HomePhone implements Phone {\n",
    "    @Override\n",
    "    public void zovi(String broj) {\n",
    "        System.out.println(\"Zovi sa kucnog: \" + broj);\n",
    "    }\n",
    "    \n",
    "}"
   ]
  },
  {
   "cell_type": "code",
   "execution_count": null,
   "metadata": {},
   "outputs": [],
   "source": [
    "SmartPhone s = new SmartPhone();\n",
    "s.zovi(\"+381695695245\");\n",
    "s.play();\n",
    "s.stop();\n",
    "s.takePicture();"
   ]
  },
  {
   "cell_type": "code",
   "execution_count": null,
   "metadata": {},
   "outputs": [],
   "source": [
    "Phone telefonofon[] = {new SmartPhone(), new HomePhone()};"
   ]
  },
  {
   "cell_type": "code",
   "execution_count": null,
   "metadata": {},
   "outputs": [],
   "source": [
    "telefonofon[0].zovi(\"195\");\n",
    "telefonofon[1].zovi(\"194\");"
   ]
  },
  {
   "cell_type": "markdown",
   "metadata": {},
   "source": [
    "Moguće je implementirati (*override*-ovati) metode interfejsa i klasa prilikom kreiranja objekta na sledeći način."
   ]
  },
  {
   "cell_type": "code",
   "execution_count": null,
   "metadata": {},
   "outputs": [],
   "source": [
    "Phone p = new Phone() {\n",
    "    @Override\n",
    "    public void zovi(String broj) {\n",
    "        System.out.println(\"Interfejs zove \" + broj);\n",
    "    }\n",
    "};"
   ]
  },
  {
   "cell_type": "code",
   "execution_count": null,
   "metadata": {},
   "outputs": [],
   "source": [
    "p.zovi(\"195\");"
   ]
  }
 ],
 "metadata": {
  "kernelspec": {
   "display_name": "Java",
   "language": "java",
   "name": "java"
  },
  "language_info": {
   "codemirror_mode": "java",
   "file_extension": ".jshell",
   "mimetype": "text/x-java-source",
   "name": "Java",
   "pygments_lexer": "java",
   "version": "12.0.2+10"
  }
 },
 "nbformat": 4,
 "nbformat_minor": 2
}
