{
 "cells": [
  {
   "cell_type": "markdown",
   "metadata": {},
   "source": [
    "# RAuT2\n",
    "## Kompleksnost\n",
    "\n",
    "#### Aleksandar Minja <br> Oktobar 2019"
   ]
  },
  {
   "cell_type": "markdown",
   "metadata": {},
   "source": [
    "Za iscrtavanje grafika koristimo JAVA biblioteku [XChart](https://github.com/knowm/XChart)."
   ]
  },
  {
   "cell_type": "code",
   "execution_count": null,
   "metadata": {},
   "outputs": [],
   "source": [
    "%maven org.knowm.xchart:xchart:3.5.2\n",
    "import org.knowm.xchart.*;\n",
    "import org.knowm.xchart.style.markers.SeriesMarkers;"
   ]
  },
  {
   "cell_type": "markdown",
   "metadata": {},
   "source": [
    "**XChart** je JAVA biblioteka koja omogućava lako i brzo iscrtavanje grafika. XChart ima veliki broj opcija i podržava iscrtavanje različitih vrsta grafika, ali će ovde biti prikazan samo **XYChart**. **QuickChart** je pomoćna klasa koja omogućava jednostavno kreiranje raznih grafika. Statička metoda za kreiranje **XYChart** grafika se zove **_getChart_** i prima sledeće parametre\n",
    "* String: naslov \n",
    "* String: tekst na x – osi\n",
    "* String: tekst na y – osi\n",
    "* String: naziv grafika\n",
    "* Niz realnih brojeva: x koordinata podataka za iscrtavanje\n",
    "* Niz realnih brojeva: y koordinata podataka za iscrtavanje\n",
    "\n",
    "Za prikaz grafika na ekran, koristimo **BitmapEncoder**. "
   ]
  },
  {
   "cell_type": "code",
   "execution_count": null,
   "metadata": {},
   "outputs": [],
   "source": [
    "double[] xData = new double[] { 0.0, 1.0, 2.0 };\n",
    "double[] yData = new double[] { 0.0, 1.0, 5.0 };\n",
    "\n",
    "XYChart chart = QuickChart.getChart(\"Sample Chart\", \"X\", \"Y\", \"y(x)\", xData, yData);"
   ]
  },
  {
   "cell_type": "code",
   "execution_count": null,
   "metadata": {},
   "outputs": [],
   "source": [
    "BitmapEncoder.getBufferedImage(chart);"
   ]
  },
  {
   "cell_type": "markdown",
   "metadata": {},
   "source": [
    "## Asimptotska kompleksnost"
   ]
  },
  {
   "cell_type": "markdown",
   "metadata": {},
   "source": [
    "Za datu funkciju: $g(x) = 1.1 x^2 + 10 + sin(x + 1.5)x^{1.5}+300$, možemo videti da se ona asimptotski ponaša kao funkcija $c\\cdot x^2$, gde je $c$ proizvoljna konstanta."
   ]
  },
  {
   "cell_type": "code",
   "execution_count": null,
   "metadata": {},
   "outputs": [],
   "source": [
    "interface Function<K,V>{\n",
    "    V doit(K k);\n",
    "}"
   ]
  },
  {
   "cell_type": "code",
   "execution_count": null,
   "metadata": {},
   "outputs": [],
   "source": [
    "Function<Double, Double> g = (x) -> { return 1.1*x*x + 10. + Math.sin(x + 1.5)*Math.pow(x, 1.5) + 300.;}"
   ]
  },
  {
   "cell_type": "code",
   "execution_count": null,
   "metadata": {},
   "outputs": [],
   "source": [
    "double x[] = new double[100];\n",
    "double y[] = new double[100];\n",
    "\n",
    "for(var i = 0; i < 100; ++i) {\n",
    "    x[i] = (double)i;\n",
    "    y[i] = g.doit(x[i]);\n",
    "}"
   ]
  },
  {
   "cell_type": "code",
   "execution_count": null,
   "metadata": {},
   "outputs": [],
   "source": [
    "XYChart chart = QuickChart.getChart(\"Funkcija g\", \"X\", \"Y\", \"g(x)\", x, y);\n",
    "BitmapEncoder.getBufferedImage(chart);"
   ]
  },
  {
   "cell_type": "code",
   "execution_count": null,
   "metadata": {},
   "outputs": [],
   "source": [
    "double x1[] = new double[100];\n",
    "double y1[] = new double[100];\n",
    "\n",
    "for(var i = 0; i < 100; ++i) {\n",
    "    x1[i] = (double)i;\n",
    "    y1[i] = x[i] * x[i];\n",
    "}\n",
    "\n",
    "XYSeries series = chart.addSeries(\"Theta(f)\", x1, y1);\n",
    "series.setMarker(SeriesMarkers.NONE);"
   ]
  },
  {
   "cell_type": "code",
   "execution_count": null,
   "metadata": {},
   "outputs": [],
   "source": [
    "BitmapEncoder.getBufferedImage(chart);"
   ]
  },
  {
   "cell_type": "code",
   "execution_count": null,
   "metadata": {},
   "outputs": [],
   "source": [
    "double x2[] = new double[100];\n",
    "double y2[] = new double[100];\n",
    "\n",
    "for(var i = 0; i < 100; ++i) {\n",
    "    x2[i] = (double)i;\n",
    "    y2[i] = 1.3*x[i] * x[i];\n",
    "}\n",
    "\n",
    "XYSeries series = chart.addSeries(\"ThetaUp(f)\", x2, y2);\n",
    "series.setMarker(SeriesMarkers.NONE);\n",
    "BitmapEncoder.getBufferedImage(chart);"
   ]
  },
  {
   "cell_type": "markdown",
   "metadata": {},
   "source": [
    "Asimptotski, kako $x \\rightarrow \\infty $, u gornjem primeru (funkcija $g(x)$) dominira samo član $x^2$, pa se ostali članovi mogu zanemariti. \n",
    "\n",
    "Ukoliko važi da se neka funkcija $g(x)$ može ograničiti sa gornje i donje strane sa funkcijom $c \\cdot f(x)$, kako $x \\rightarrow \\infty $, tada kažemo da $g(x) = \\Theta(f(x))$. \n",
    "\n",
    "U većini slučajeva nas konstanta $c$ ne zanima."
   ]
  },
  {
   "cell_type": "markdown",
   "metadata": {},
   "source": [
    "U mnogim slučajevima nemamo donje ograničenje, kao na primer:\n",
    "\n",
    "$g(x) = x (1 + sin(x))$"
   ]
  },
  {
   "cell_type": "code",
   "execution_count": null,
   "metadata": {},
   "outputs": [],
   "source": [
    "Function<Double, Double> g = (x) -> { return x*(1 + Math.sin(x));}"
   ]
  },
  {
   "cell_type": "code",
   "execution_count": null,
   "metadata": {},
   "outputs": [],
   "source": [
    "double x[] = new double[100];\n",
    "double y[] = new double[100];\n",
    "\n",
    "for(var i = 0; i < 100; ++i) {\n",
    "    x[i] = (double)i;\n",
    "    y[i] = g.doit(x[i]);\n",
    "}\n",
    "\n",
    "XYChart chart = QuickChart.getChart(\"Sample Chart\", \"X\", \"Y\", \"y(x)\", x, y);\n",
    "BitmapEncoder.getBufferedImage(chart);"
   ]
  },
  {
   "cell_type": "markdown",
   "metadata": {},
   "source": [
    "Ova funkcija je sa donje strane uvek 0, dok je sa gornje strane ograničena sa linearnom funkcijom $f(x) = x$."
   ]
  },
  {
   "cell_type": "code",
   "execution_count": null,
   "metadata": {},
   "outputs": [],
   "source": [
    "double x1[] = new double[100];\n",
    "double y1[] = new double[100];\n",
    "\n",
    "for(var i = 0; i < 100; ++i) {\n",
    "    x1[i] = (double)i;\n",
    "    y1[i] = 2*x1[i];\n",
    "}\n",
    "var series = chart.addSeries(\"ThetaUp(f)\", x1, y1);\n",
    "series.setMarker(SeriesMarkers.NONE);\n",
    "BitmapEncoder.getBufferedImage(chart);"
   ]
  },
  {
   "cell_type": "markdown",
   "metadata": {},
   "source": [
    "Ako je neka funkcija $g(x)$ ograničena sa gornje strane sa funkcijom $c \\cdot f(x)$, kažemo $g(x) = O(f(x))$\n",
    "\n",
    "U većini praktičnih slučajeva nas interesuje samo gornje ograničenje (najgori mogući slučaj)."
   ]
  },
  {
   "cell_type": "markdown",
   "metadata": {},
   "source": [
    "Takođe postoje slučajevi kad se donja i gornja granica \"ne slažu\". Na primer:\n",
    "\n",
    "$g(x) = (1 + sin(x)) * x^{1.5} + x^{1.4}$\n",
    "\n",
    "Ova funkcija je sa gornje strane ograničena sa $f_1(x) = x^{1.5}$, pa kažemo $g(x) = O(f_1(x))$, a sa donje strane je ograničena sa funkcijom $f_2(x) = x^{1.4}$, pa kažemo $g(x) = \\Omega(f_2(x))$"
   ]
  },
  {
   "cell_type": "code",
   "execution_count": null,
   "metadata": {},
   "outputs": [],
   "source": [
    "Function<Double, Double> g = (x) -> { return (1 + Math.sin(x)) * Math.pow(x,1.5) + Math.pow(x,1.4);}"
   ]
  },
  {
   "cell_type": "code",
   "execution_count": null,
   "metadata": {},
   "outputs": [],
   "source": [
    "double x[] = new double[100];\n",
    "double y[] = new double[100];\n",
    "\n",
    "for(var i = 0; i < 100; ++i) {\n",
    "    x[i] = (double)i;\n",
    "    y[i] = g.doit(x[i]);\n",
    "}\n",
    "\n",
    "XYChart chart = QuickChart.getChart(\"Sample Chart\", \"X\", \"Y\", \"y(x)\", x, y);\n",
    "BitmapEncoder.getBufferedImage(chart);"
   ]
  },
  {
   "cell_type": "code",
   "execution_count": null,
   "metadata": {},
   "outputs": [],
   "source": [
    "double x1[] = new double[100];\n",
    "double y1[] = new double[100];\n",
    "\n",
    "for(var i = 0; i < 100; ++i) {\n",
    "    x1[i] = (double)i;\n",
    "    y1[i] = Math.pow(x[i], 1.4);\n",
    "}\n",
    "var series = chart.addSeries(\"ThetaDown(f)\", x1, y1);\n",
    "series.setMarker(SeriesMarkers.NONE);\n",
    "BitmapEncoder.getBufferedImage(chart);"
   ]
  },
  {
   "cell_type": "code",
   "execution_count": null,
   "metadata": {},
   "outputs": [],
   "source": [
    "double x2[] = new double[100];\n",
    "double y2[] = new double[100];\n",
    "\n",
    "for(var i = 0; i < 100; ++i) {\n",
    "    x2[i] = (double)i;\n",
    "    y2[i] = 2.8*Math.pow(x[i], 1.5);\n",
    "}\n",
    "var series = chart.addSeries(\"ThetaUp(f)\", x2, y2);\n",
    "series.setMarker(SeriesMarkers.NONE);\n",
    "BitmapEncoder.getBufferedImage(chart);"
   ]
  },
  {
   "cell_type": "markdown",
   "metadata": {},
   "source": [
    "U ovom slučaju kad je funkcija $g(x)$ sa gornje strane ograničena sa funkcijom $f_1(x)$ a sa donje strane $f_2(x)$, postavlja se pitanje kako ćemo prikazati njenu kompleksnost: $g(x) = \\Theta(?)$.\n",
    "\n",
    "Jedino što možemo da kažemo jeste $g(x) = O(f_1(x))$ i $g(x) = \\Omega(f_2(x))$."
   ]
  },
  {
   "cell_type": "markdown",
   "metadata": {},
   "source": [
    "### Klase kompleksnosti:\n",
    "\n",
    "* $\\Theta(1)$ - konstantno vreme\n",
    "* $\\Theta(\\log N)$ - logaritamsko vreme\n",
    "* $\\Theta(N)$ - linearno vreme\n",
    "* $\\Theta(N\\log N)$ - loglinearno (kvazilinearno) vreme\n",
    "* $\\Theta(N^2)$ - kvadratno vreme\n",
    "* $\\Theta(N^k)$ - polinomijalno vreme\n",
    "* $\\Theta(k^N)$ - eksponencijalno vreme\n",
    "* $\\Theta(N!)$ - faktorijel\n"
   ]
  },
  {
   "cell_type": "markdown",
   "metadata": {},
   "source": [
    "### Kompleksnost Algoritama\n",
    "\n",
    "**Algoritam:** Niz koraka (skup operacija) da bi se rešio problem.\n",
    "\n",
    "**Kompleksnost algoritma:** Broj koraka potreban da bi se izvršio algoritam (rešio problem)\n",
    "\n",
    "Kompleksnost algoritma često zavisi od veličine ulaza. Jedan od najjednostavnijih problema jeste pretraga. \n",
    "\n",
    "**Problem:** Za proizvoljni niz $n$ i broj $x$, naći indeks broja $x$ u nizu $n$, ako postoji, u suprotnom vratiti -1.\n",
    "\n",
    "**Rešenje - Linearna pretraga:** Iterirati kroz niz i proveriti da li je trenutni elemenat jednak broju $x$. Kad nađemo broj $x$, vraćamo njegov indeks u nizu, i završavamo program. Ukoliko dođemo do kraja niza, a nismo našli traženi broj, vraćamo -1. "
   ]
  },
  {
   "cell_type": "code",
   "execution_count": null,
   "metadata": {},
   "outputs": [],
   "source": [
    "int[] niz = {1, 2, 7, 8, 9, 3, 5, 6, 0, 4};\n",
    "var x = 3;"
   ]
  },
  {
   "cell_type": "code",
   "execution_count": null,
   "metadata": {},
   "outputs": [],
   "source": [
    "int linearSearch(int[] niz, int d, int g, int x) {\n",
    "    if(d < g) {\n",
    "        if(niz[d] == x)\n",
    "            return d;\n",
    "        else\n",
    "            return linearSearch(niz, d+1, g, x);\n",
    "    }\n",
    "    return -1;\n",
    "}"
   ]
  },
  {
   "cell_type": "code",
   "execution_count": null,
   "metadata": {},
   "outputs": [],
   "source": [
    "linearSearch(niz, 0, niz.length, 5)"
   ]
  },
  {
   "cell_type": "markdown",
   "metadata": {},
   "source": [
    "Ukoliko je niz sortiran moguće je ubrzati pretragu tako što u svakom koraku eliminišemo pola niza. Ova pretraga se zove metod polovljenja (eng. Binary Search ili Bisection Method). "
   ]
  },
  {
   "cell_type": "code",
   "execution_count": null,
   "metadata": {},
   "outputs": [],
   "source": [
    "int binarySearch(int[] niz, int d, int g, int x) {\n",
    "    if(g < d) {\n",
    "        var m = d + (g - d) / 2;\n",
    "        \n",
    "        if(niz[m] == x)\n",
    "            return m;\n",
    "            \n",
    "        if(niz[m] > x) {\n",
    "            return binarySearch(niz, d, m, x);\n",
    "        }\n",
    "        if(niz[m] < x) {\n",
    "            return binarySearch(niz, m, g, x);\n",
    "        }\n",
    "    }\n",
    "    return -1;\n",
    "}"
   ]
  },
  {
   "cell_type": "code",
   "execution_count": null,
   "metadata": {},
   "outputs": [],
   "source": [
    "int[] niz = {1, 2, 3, 4, 5, 6, 7, 8, 9};\n",
    "binarySearch(niz,0,niz.length, 10)"
   ]
  },
  {
   "cell_type": "code",
   "execution_count": null,
   "metadata": {},
   "outputs": [],
   "source": []
  },
  {
   "cell_type": "markdown",
   "metadata": {},
   "source": [
    "### Reference\n",
    "\n"
   ]
  },
  {
   "cell_type": "markdown",
   "metadata": {},
   "source": [
    "1. [MIT kurs Introduction to algorithms, 2011 godina](https://ocw.mit.edu/courses/electrical-engineering-and-computer-science/6-006-introduction-to-algorithms-fall-2011/)  (primeri sa ovog kursa su uključeni u ovoj prezentaciji)\n",
    "2. Cormen, Thomas, Charles Leiserson, Ronald Rivest, and Clifford Stein. Introduction to Algorithms. MIT Press, 2009. ISBN: 9780262033848.\n",
    "3. Big-O notacija: https://en.wikipedia.org/wiki/Big_O_notation"
   ]
  }
 ],
 "metadata": {
  "kernelspec": {
   "display_name": "Java",
   "language": "java",
   "name": "java"
  },
  "language_info": {
   "codemirror_mode": "java",
   "file_extension": ".jshell",
   "mimetype": "text/x-java-source",
   "name": "Java",
   "pygments_lexer": "java",
   "version": "12.0.2+10"
  }
 },
 "nbformat": 4,
 "nbformat_minor": 2
}
