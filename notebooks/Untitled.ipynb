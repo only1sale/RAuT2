{
 "cells": [
  {
   "cell_type": "code",
   "execution_count": 12,
   "metadata": {},
   "outputs": [
    {
     "name": "stdout",
     "output_type": "stream",
     "text": [
      "14\n",
      "16\n",
      "12\n"
     ]
    }
   ],
   "source": [
    "int x[] = {7,9,5};\n",
    "for(var l : x) {\n",
    "    l += 7;\n",
    "    System.out.println(l);\n",
    "}"
   ]
  },
  {
   "cell_type": "code",
   "execution_count": 13,
   "metadata": {},
   "outputs": [
    {
     "name": "stdout",
     "output_type": "stream",
     "text": [
      "0\n",
      "0\n",
      "0\n"
     ]
    }
   ],
   "source": [
    "int x[] = new int[3];\n",
    "for(var l : x)\n",
    "    System.out.println(l);"
   ]
  },
  {
   "cell_type": "code",
   "execution_count": 14,
   "metadata": {},
   "outputs": [],
   "source": [
    "int x[][] = {{1,2,3},{4,5,6}};"
   ]
  },
  {
   "cell_type": "code",
   "execution_count": 15,
   "metadata": {},
   "outputs": [
    {
     "name": "stdout",
     "output_type": "stream",
     "text": [
      "1 2 3 \n",
      "4 5 6 \n"
     ]
    }
   ],
   "source": [
    "for(var xx : x) {\n",
    "    for(var yy : xx)\n",
    "        System.out.print(yy + \" \");\n",
    "        \n",
    "    System.out.print(\"\\n\");\n",
    "}"
   ]
  },
  {
   "cell_type": "code",
   "execution_count": 42,
   "metadata": {},
   "outputs": [
    {
     "name": "stdout",
     "output_type": "stream",
     "text": [
      "R u\n"
     ]
    }
   ],
   "source": [
    "String x = \"RAuT2 is just JAVA\";\n",
    "System.out.println(x.charAt(0) + \" \" + x.charAt(2));"
   ]
  },
  {
   "cell_type": "code",
   "execution_count": 47,
   "metadata": {},
   "outputs": [
    {
     "name": "stdout",
     "output_type": "stream",
     "text": [
      "RAUT2 IS \n",
      "UST \n",
      "AVA\n"
     ]
    }
   ],
   "source": [
    "String []y = x.toUpperCase().split(\"J\");\n",
    "for(var yy : y)\n",
    "    System.out.println(yy);"
   ]
  },
  {
   "cell_type": "code",
   "execution_count": null,
   "metadata": {},
   "outputs": [],
   "source": []
  }
 ],
 "metadata": {
  "kernelspec": {
   "display_name": "Java",
   "language": "java",
   "name": "java"
  },
  "language_info": {
   "codemirror_mode": "java",
   "file_extension": ".jshell",
   "mimetype": "text/x-java-source",
   "name": "Java",
   "pygments_lexer": "java",
   "version": "12.0.2+10"
  }
 },
 "nbformat": 4,
 "nbformat_minor": 2
}
