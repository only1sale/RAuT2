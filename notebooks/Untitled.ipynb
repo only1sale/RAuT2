{
 "cells": [
  {
   "cell_type": "code",
   "execution_count": 16,
   "metadata": {},
   "outputs": [],
   "source": [
    "class Auto {\n",
    "    String marka;\n",
    "    String model;\n",
    "    static String boja;\n",
    "    double kubik;\n",
    "    int god;\n",
    "    \n",
    "    public void setMarka(String s) { marka = s; }\n",
    "    public void setModel(String s) { model = s; }\n",
    "    public void setBoja(String s) { boja = s; }\n",
    "    public void setKubik(double k) { this.kubik = k; }\n",
    "    public void setGod(int g) {god = g;}\n",
    "    \n",
    "    public String getMarka() { return marka; }\n",
    "    public String getModel() { return model; }\n",
    "    public static String getBoja() { return boja; }\n",
    "    public double getKubik() { return kubik; }\n",
    "    public int getGod() { return god; }\n",
    "    \n",
    "}"
   ]
  },
  {
   "cell_type": "code",
   "execution_count": 10,
   "metadata": {},
   "outputs": [
    {
     "name": "stdout",
     "output_type": "stream",
     "text": [
      "Crveno\n",
      "Zeleno\n"
     ]
    }
   ],
   "source": [
    "Auto a = new Auto();\n",
    "Auto b = new Auto();\n",
    "a.setBoja(\"Crveno\");\n",
    "b.setBoja(\"Zeleno\");\n",
    "\n",
    "System.out.println(a.getBoja());\n",
    "System.out.println(b.getBoja());"
   ]
  },
  {
   "cell_type": "code",
   "execution_count": 13,
   "metadata": {},
   "outputs": [],
   "source": [
    "Auto.getBoja()"
   ]
  },
  {
   "cell_type": "code",
   "execution_count": null,
   "metadata": {},
   "outputs": [],
   "source": []
  }
 ],
 "metadata": {
  "kernelspec": {
   "display_name": "Java",
   "language": "java",
   "name": "java"
  },
  "language_info": {
   "codemirror_mode": "java",
   "file_extension": ".jshell",
   "mimetype": "text/x-java-source",
   "name": "Java",
   "pygments_lexer": "java",
   "version": "12.0.2+10"
  }
 },
 "nbformat": 4,
 "nbformat_minor": 2
}
