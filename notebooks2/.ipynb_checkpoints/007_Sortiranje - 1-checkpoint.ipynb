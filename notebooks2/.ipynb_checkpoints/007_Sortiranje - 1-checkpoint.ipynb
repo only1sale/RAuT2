{
 "cells": [
  {
   "cell_type": "markdown",
   "metadata": {},
   "source": [
    "# RAuT2\n",
    "## Sortiranje - 1\n",
    "\n",
    "#### Aleksandar Minja <br> Oktobar 2019"
   ]
  },
  {
   "cell_type": "markdown",
   "metadata": {},
   "source": [
    "Sortiranje je bilo koji postupak koji postavlja elemente niza u neki poredak. Sortiranje se obično koristi kao sastavni deo drugih algoritama, a veliki broj algoritama kreće od pretpostavke da je ulazni niz već sortiran (npr. binary search). U slučaju dekodovanja zaštitnih kodova (npr ordered statistics decoding algoritam) i kompresije veoma je bitno da imamo **efikasan** algoritam za sortiranje. U ovom predavanju razmatramo samo sortiranje celih brojeva i pretpostavljamo da svi algoritmi sortiraju niz od najmanjeg ka najvećem elementu (tj. neopadajući poredak).   "
   ]
  },
  {
   "cell_type": "code",
   "execution_count": null,
   "metadata": {},
   "outputs": [],
   "source": [
    "void colorPrint(ArrayList<?> x, int i, int j, char c) {\n",
    "    String ANSI_RESET = \"\\u001B[0m\";\n",
    "    String ANSI_COLOR;\n",
    "    if(c == 'r')\n",
    "        ANSI_COLOR = \"\\u001B[31m\";\n",
    "    else if(c == 'b')\n",
    "        ANSI_COLOR = \"\\u001B[34m\";\n",
    "    else\n",
    "        ANSI_COLOR = ANSI_RESET;\n",
    "    //ISPIS---------------------------\n",
    "    String s = \"\";\n",
    "    for(var k = 0; k < x.size(); ++k) {\n",
    "        if(k == i || k == j)\n",
    "            s += ANSI_COLOR + x.get(k) + \" \" + ANSI_RESET ;\n",
    "        else\n",
    "            s += x.get(k) + \" \";\n",
    "    }\n",
    "    System.out.print(s + \"\\r\");\n",
    "    //--------------------------------\n",
    "}\n",
    "\n",
    "void swap(ArrayList<Integer> x, int i, int j) {\n",
    "    if(x.get(i) > x.get(j)) {\n",
    "            Integer pom = x.get(i);\n",
    "            x.set(i, x.get(j));\n",
    "            x.set(j, pom);\n",
    "    }\n",
    "}"
   ]
  },
  {
   "cell_type": "markdown",
   "metadata": {},
   "source": [
    "Za generisanje (pseudo) slučajnih brojeva u Java jeziku koristimo objekat klase **Random**. **Random** objekat ima veliki broj metoda za generisanje slučajnih brojeva (kao i nizova slučajnih brojeva). Metoda *nextDouble()* vraća slučajni broj između 0 i 1, dok metoda *nextInt()* vraća slučajni broj između 0 i $2^{32}-1$. Ukoliko želimo slučajni celi broj između 0 i M-1, možemo koristiti metodu *nextInt(M)*. "
   ]
  },
  {
   "cell_type": "code",
   "execution_count": null,
   "metadata": {},
   "outputs": [],
   "source": [
    "var x = new ArrayList<Integer>();\n",
    "var r = new Random();\n",
    "for(var i = 0; i < 10; ++i)\n",
    "    x.add(r.nextInt(10));\n",
    "\n",
    "for(var xx : x)\n",
    "    System.out.print(xx + \" \");"
   ]
  },
  {
   "cell_type": "markdown",
   "metadata": {},
   "source": [
    "Statička metoda *java.util.Collections.shuffle(x)* vraća slučajnu permutaciju nekog niza (kolekcije) x."
   ]
  },
  {
   "cell_type": "code",
   "execution_count": null,
   "metadata": {},
   "outputs": [],
   "source": [
    "java.util.Collections.shuffle(x);\n",
    "\n",
    "for(var xx : x)\n",
    "    System.out.print(xx + \" \");"
   ]
  },
  {
   "cell_type": "markdown",
   "metadata": {},
   "source": [
    "### Stupid sort\n",
    "\n",
    "Najjednostavniji algoritam za sortiranje jeste **stupid sort** (takođe poznat i kao *bogosrot*, *monkey sort*, *slowsort* i *shotgun sort*). Koraci ovog algoritma su:\n",
    "\n",
    "1. proveri da li je niz x sortiran, ako jeste, vrati x, ako ne nastavi dalje\n",
    "2. generiši slučajnu permutaciju niza x, \n",
    "3. vrati se na korak 1.\n"
   ]
  },
  {
   "cell_type": "code",
   "execution_count": null,
   "metadata": {},
   "outputs": [],
   "source": [
    "boolean isSorted(ArrayList<Integer> x){\n",
    "    for(var i = 0; i < x.size()-1; ++i)\n",
    "        if(x.get(i) > x.get(i+1)) \n",
    "            return false;\n",
    "    return true;\n",
    "}\n",
    "\n",
    "java.util.Collections.shuffle(x);\n",
    "var i = 0;\n",
    "\n",
    "//Stupid sort---------------\n",
    "while(!isSorted(x)) {\n",
    "    java.util.Collections.shuffle(x);\n",
    "    ++i;\n",
    "}\n",
    "//---------------------------\n",
    "System.out.println(i + \" Steps: \");\n",
    "for(var xx : x)\n",
    "    System.out.print(xx + \" \");"
   ]
  },
  {
   "cell_type": "markdown",
   "metadata": {},
   "source": [
    "### Bubble sort\n",
    "\n",
    "Jedan od najjednostavnijih i najpoznatiji algoritam za sortiranje jeste **bubble sort** (tzv. sinking sort). Ovaj algoritam poređuje svaka dva elementa u nizu i zamenjuje ih ako je to potrebno. "
   ]
  },
  {
   "cell_type": "code",
   "execution_count": null,
   "metadata": {},
   "outputs": [],
   "source": [
    "var x = new ArrayList<Integer>();\n",
    "for(var i = 0; i < 10; ++i)\n",
    "    x.add(r.nextInt(10));\n",
    "\n",
    "for(var xx : x)\n",
    "    System.out.print(xx + \" \");"
   ]
  },
  {
   "cell_type": "code",
   "execution_count": null,
   "metadata": {},
   "outputs": [],
   "source": [
    "for(var i = 0; i < x.size()-1; ++i) {\n",
    "    for(var j = i+1; j < x.size(); ++j) {\n",
    "    \n",
    "        colorPrint(x, i, j, 'r');\n",
    "        Thread.sleep(1000);\n",
    "        \n",
    "        swap(x, i, j);\n",
    "        \n",
    "        colorPrint(x, i, j, 'b');\n",
    "        Thread.sleep(1000);\n",
    "    }\n",
    "}\n",
    "\n",
    "System.out.print(\"\\nSortered Array: \");\n",
    "for(var xx : x)\n",
    "    System.out.print(xx + \" \");"
   ]
  },
  {
   "cell_type": "markdown",
   "metadata": {},
   "source": [
    "### Odd-Even sort\n",
    "\n",
    "Odd-even sort (poznat i kao *brick sort*) je razvijen kao proširenje *bubble sort* algoritma, specifično dizajniran da radi na paralelnim računarima. Ovaj algoritam radi, tako što se prvo svaki neparni elemenat poređuje sa svojim susednim elementom, a zatim se svaki parni elemenat poređuje sa svojim susedom. Ovo se ponavlja sve dok niz nije sortiran. \n",
    "\n",
    "![](https://www.geeksforgeeks.org/wp-content/uploads/odd-even-sort.png)"
   ]
  },
  {
   "cell_type": "code",
   "execution_count": null,
   "metadata": {},
   "outputs": [],
   "source": [
    "var x = new ArrayList<Integer>();\n",
    "for(var i = 0; i < 8; ++i)\n",
    "    x.add(r.nextInt(10));\n",
    "\n",
    "for(var xx : x)\n",
    "    System.out.print(xx + \" \");"
   ]
  },
  {
   "cell_type": "code",
   "execution_count": null,
   "metadata": {},
   "outputs": [],
   "source": [
    "while(!isSorted(x)) {\n",
    "    for (int i=1; i<=x.size()-2; i=i+2) \n",
    "    { \n",
    "        colorPrint(x, i, i+1, 'r');\n",
    "        Thread.sleep(1000);\n",
    "        \n",
    "        if (x.get(i) > x.get(i+1)) \n",
    "        { \n",
    "            swap(x, i, i+1);\n",
    "        }\n",
    "        \n",
    "        colorPrint(x, i, i+1, 'r');\n",
    "        Thread.sleep(1000);\n",
    "    } \n",
    "\n",
    "    for (int i=0; i<=x.size()-2; i=i+2) \n",
    "    { \n",
    "        colorPrint(x, i, i+1, 'b');\n",
    "        Thread.sleep(1000);\n",
    "\n",
    "        if (x.get(i) > x.get(i+1)) \n",
    "        { \n",
    "            swap(x, i, i+1);\n",
    "        } \n",
    "        \n",
    "        colorPrint(x, i, i+1, 'b');\n",
    "        Thread.sleep(1000);\n",
    "\n",
    "    }\n",
    "}\n",
    "\n",
    "System.out.print(\"\\nSortered Array: \");\n",
    "for(var xx : x)\n",
    "    System.out.print(xx + \" \");\n"
   ]
  },
  {
   "cell_type": "markdown",
   "metadata": {},
   "source": [
    "### Insertion sort\n",
    "\n",
    "Insertion sort je jedan od najjednostavnijih algoritama za sortiranje, koji je inspirisan sortiranjem karata za igranje. Veoma je efikasan pri sortiranju malih nizova, i nizova koji su već približno sortirani, dok je loš za sortiranje većih nizova. Obično se koristi kao međukorak u drugim algoritmima za sortiranje. Algoritam radi tako što za svaki elemenat $x[i]$, tražimo njegovu poziciju u podnizu $x[0 ... i-1]$.\n",
    "\n",
    "![](https://media.geeksforgeeks.org/wp-content/uploads/insertionsort.png)"
   ]
  },
  {
   "cell_type": "code",
   "execution_count": null,
   "metadata": {},
   "outputs": [],
   "source": [
    "var x = new ArrayList<Integer>();\n",
    "for(var i = 0; i < 8; ++i)\n",
    "    x.add(r.nextInt(10));\n",
    "\n",
    "for(var xx : x)\n",
    "    System.out.print(xx + \" \");"
   ]
  },
  {
   "cell_type": "code",
   "execution_count": null,
   "metadata": {},
   "outputs": [],
   "source": [
    "\n",
    "for(var i = 0; i < x.size(); ++i){\n",
    "    var key = x.get(i);\n",
    "    var j = i - 1;\n",
    "    \n",
    "    colorPrint(x, i, i, 'r');\n",
    "    Thread.sleep(1000);\n",
    "    \n",
    "    while(j >= 0 && x.get(j) > key){\n",
    "        x.set(j+1, x.get(j));\n",
    "        --j;\n",
    "    }\n",
    "    x.set(j+1, key);\n",
    "    \n",
    "    colorPrint(x, j+1, j+1, 'b');\n",
    "    Thread.sleep(1000);\n",
    "}"
   ]
  },
  {
   "cell_type": "code",
   "execution_count": null,
   "metadata": {},
   "outputs": [],
   "source": [
    "for(var xx : x)\n",
    "    System.out.print(xx + \" \");"
   ]
  },
  {
   "cell_type": "markdown",
   "metadata": {},
   "source": [
    "### Leksikografski poredak\n",
    "\n",
    "Ukoliko imamo dve sekvence $\\mathcal{A} = \\{a_1, a_2, \\dots a_N\\}$ i $\\mathcal{B} = \\{b_1, b_2, \\dots b_N\\}$, onda važi da je $\\mathcal{A} < \\mathcal{B}$ akko je $a_i < b_i$, dok za sve vrednosti $j < i$ važi $a_j = b_j$. Na primer, leksikografski red svih permutacija niza $\\{1, 2, 3\\}$:\n",
    "\n",
    "$$\\{1, 2, 3\\} < \\{1, 3, 2\\} < \\{2, 1, 3\\} < \\{2, 3, 1\\} < \\{3, 1, 2\\} < \\{3, 2, 1\\}$$\n",
    "\n",
    "* Ukoliko znamo da niz dužine $N$ ima $N!$ permutacija, koliko bita nam je potrebno da predstavimo svaku permutaciju? \n",
    "\n",
    "* Ukoliko su svih $N!$ permutacija poređane u leksikografski red, koliko koraka nam je potrebno da nađemo željenu permutaciju?\n",
    "\n",
    "* Da li je moguće napraviti algoritam za sortiranje koji radi u $O (N \\log N)$ vremenu?"
   ]
  },
  {
   "cell_type": "markdown",
   "metadata": {},
   "source": [
    "### Ubrzanje insertion sort algoritma\n",
    "\n",
    "Umesto da svaki put kad tražimo poziciju elemenat $x[i]$ u podnizu $x[0 ... i-1]$, koristimo linearnu pretragu, možemo iskoristiti činjenicu da je podniz $x[0 ... i-1]$ sortiran, pa možemo koristiti binarnu pretragu."
   ]
  },
  {
   "cell_type": "code",
   "execution_count": null,
   "metadata": {},
   "outputs": [],
   "source": [
    "var x = new ArrayList<Integer>();\n",
    "for(var i = 0; i < 8; ++i)\n",
    "    x.add(r.nextInt(10));\n",
    "\n",
    "for(var xx : x)\n",
    "    System.out.print(xx + \" \");"
   ]
  },
  {
   "cell_type": "code",
   "execution_count": null,
   "metadata": {},
   "outputs": [],
   "source": [
    "for(var i = 1; i < x.size(); ++i){\n",
    "    var key = x.get(i);\n",
    "    var b = i;\n",
    "    var a = 0;\n",
    "    \n",
    "    int m = a + (b - a) / 2;\n",
    "    \n",
    "    while(b - a > 1) {\n",
    "        \n",
    "        m = a + (b - a)/2;\n",
    "        \n",
    "        if(x.get(m) == key)\n",
    "            break;\n",
    "        if(x.get(m) > key)\n",
    "            b = m;\n",
    "        else\n",
    "            a = m;    \n",
    "    }\n",
    "    \n",
    "    x.remove(i);\n",
    "    x.add(m, key);\n",
    "}"
   ]
  },
  {
   "cell_type": "code",
   "execution_count": null,
   "metadata": {},
   "outputs": [],
   "source": [
    "for(var xx : x)\n",
    "    System.out.print(xx + \" \");"
   ]
  },
  {
   "cell_type": "markdown",
   "metadata": {},
   "source": [
    "Primetite da je niz sekvecijalna struktura i da prilikom umetanja elementa na novu poziciju, moramo pomeriti sve veće elemente za jedno mesto u desno. Kolika je kompleksnost pomeranja elemenata? Koliko je ubrzanje postignuto?"
   ]
  },
  {
   "cell_type": "markdown",
   "metadata": {},
   "source": [
    "#### Slike su preuzete sa narednih linkova:\n",
    "1. https://www.geeksforgeeks.org/bubble-sort/\n",
    "2. https://www.geeksforgeeks.org/odd-even-sort-brick-sort/\n",
    "3. https://www.geeksforgeeks.org/insertion-sort/"
   ]
  }
 ],
 "metadata": {
  "kernelspec": {
   "display_name": "Java",
   "language": "java",
   "name": "java"
  },
  "language_info": {
   "codemirror_mode": "java",
   "file_extension": ".jshell",
   "mimetype": "text/x-java-source",
   "name": "Java",
   "pygments_lexer": "java",
   "version": "12.0.2+10"
  }
 },
 "nbformat": 4,
 "nbformat_minor": 2
}
