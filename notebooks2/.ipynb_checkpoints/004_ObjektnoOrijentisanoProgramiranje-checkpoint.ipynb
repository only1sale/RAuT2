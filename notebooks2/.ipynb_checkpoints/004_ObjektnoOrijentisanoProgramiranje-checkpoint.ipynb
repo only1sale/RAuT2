{
 "cells": [
  {
   "cell_type": "markdown",
   "metadata": {
    "slideshow": {
     "slide_type": "slide"
    }
   },
   "source": [
    "# RAuT2\n",
    "## Objektno Orijentisano Programiranje\n",
    "\n",
    "#### Aleksandar Minja <br> Oktobar 2019"
   ]
  },
  {
   "cell_type": "markdown",
   "metadata": {
    "slideshow": {
     "slide_type": "slide"
    }
   },
   "source": [
    "U matematici (teoriji skupova), klasa predstavlja kolekciju matematičkih objekata, koji su jedinstveno oređeni svojim osobinama (atributima). Sličan koncept je prisutan i u programiranju. \n",
    "\n",
    "![](https://www.mathsisfun.com/sets/images/set-clothes.svg)\n",
    "\n",
    "U računarskim naukama, klasa (često nazvana i korisnički definisan tip) predstavlja mehanizam za definisanje strukture (osobina) objekata. Svi objekti iste klase imaju iste atribute, ali se same vrednosti atributa mogu razlikovati. Obično su atributi neki primitivni tipovi, ili druge klase. Klasa može da sadrži i metode (funkcije) koje se obavljaju nad objektima klase.\n",
    "\n",
    "Svaka klasa sadrži specijalni metod (konstruktor) koji je zadužen za kreiranje objekata te klase. Konstruktor uvek postoji i ukoliko korisnik ne definiše konstruktor, klasa će napraviti podrazumevani (eng. default) konstruktor. [Tutor kod](http://www.pythontutor.com/java.html#code=public%20class%20YourClassNameHere%20%7B%0A%20%20%20%20static%20class%20Krug%20%7B%0A%20%20%20%20%20%20double%20r%3B%0A%20%20%20%20%20%20%0A%20%20%20%20%20%20public%20Krug%28double%20rr%29%20%7B%0A%20%20%20%20%20%20%20%20this.r%20%3D%20rr%3B%0A%20%20%20%20%20%20%7D%0A%20%20%20%20%20%20%0A%20%20%20%20%20%20public%20double%20povrsina%28%29%20%7B%0A%20%20%20%20%20%20%20%20return%20r%20*%20r%20*%20Math.PI%3B%0A%20%20%20%20%20%20%7D%0A%20%20%20%20%20%20%0A%20%20%20%20%20%20public%20double%20obim%28%29%20%7B%0A%20%20%20%20%20%20%20%20return%202%20*%20r%20*%20Math.PI%3B%0A%20%20%20%20%20%20%7D%0A%20%20%20%20%7D%0A%20%20%0A%20%20%20%20public%20static%20void%20main%28String%5B%5D%20args%29%20%7B%0A%20%20%20%20%20%20Krug%20k%20%3D%20new%20Krug%283.%29%3B%0A%20%20%20%20%20%20%0A%20%20%20%20%20%20double%20P%20%3D%20k.povrsina%28%29%3B%0A%20%20%20%20%20%20double%20O%20%3D%20k.obim%28%29%3B%0A%20%20%20%20%7D%0A%7D&cumulative=false&curInstr=0&heapPrimitives=nevernest&mode=display&origin=opt-frontend.js&py=java&rawInputLstJSON=%5B%5D&textReferences=false). Ukoliko korisnik napravi svoj konsturktor, default-nu konstruktor neće biti automatski kreiran. Moguće je imati više konstruktora, ali moraju da se razlikuju po parametrima koje primaju. "
   ]
  },
  {
   "cell_type": "markdown",
   "metadata": {
    "slideshow": {
     "slide_type": "slide"
    }
   },
   "source": [
    "JAVA je objektno orijentisan programski jezik. Nije moguće definisati funkcije i promenljive izvan klase. Objekti se kreiraju pomoću ključne reči **new**, a rezultat kreiranja objekta jeste referenca na objekat (ne na memoriju gde se objekat nalazi kao u C++-u). Ključna reč **this** služi za pristup elementima klase iz unutar same klase.\n",
    "\n"
   ]
  },
  {
   "cell_type": "code",
   "execution_count": 1,
   "metadata": {
    "slideshow": {
     "slide_type": "subslide"
    }
   },
   "outputs": [],
   "source": [
    "class Krug {\n",
    "    double r;\n",
    "    \n",
    "    public Krug(double rr) {\n",
    "        r = rr;\n",
    "    }\n",
    "    \n",
    "    public double povrsina() {\n",
    "        return r * r * Math.PI;\n",
    "    }\n",
    "    \n",
    "    public double obim() {\n",
    "        return 2 * r * Math.PI;\n",
    "    }\n",
    "}\n",
    "\n",
    "Krug k = new Krug(3);"
   ]
  },
  {
   "cell_type": "code",
   "execution_count": 2,
   "metadata": {
    "slideshow": {
     "slide_type": "fragment"
    }
   },
   "outputs": [
    {
     "name": "stdout",
     "output_type": "stream",
     "text": [
      "P = 28.274333882308138\n",
      "O = 18.84955592153876\n"
     ]
    }
   ],
   "source": [
    "System.out.println(\"P = \" + k.povrsina());\n",
    "System.out.println(\"O = \" + k.obim());"
   ]
  },
  {
   "cell_type": "markdown",
   "metadata": {
    "slideshow": {
     "slide_type": "notes"
    }
   },
   "source": [
    "[Tutor kod](http://www.pythontutor.com/java.html#code=public%20class%20YourClassNameHere%20%7B%0A%20%20%20%20static%20class%20Tacka%20%7B%0A%20%20%20%20%20%20%20%20double%20x%3B%0A%20%20%20%20%20%20%20%20double%20y%3B%0A%20%20%20%20%20%20%20%20%0A%20%20%20%20%20%20%20%20public%20Tacka%28double%20x,%20double%20y%29%20%7B%0A%20%20%20%20%20%20%20%20%20%20%20%20this.x%20%3D%20x%3B%0A%20%20%20%20%20%20%20%20%20%20%20%20this.y%20%3D%20y%3B%0A%20%20%20%20%20%20%20%20%7D%0A%20%20%20%20%20%20%20%20%0A%20%20%20%20%20%20%20%20public%20Tacka%28%29%20%7B%0A%20%20%20%20%20%20%20%20%20%20%20%20x%20%3D%200.%3B%0A%20%20%20%20%20%20%20%20%20%20%20%20y%20%3D%200.%3B%0A%20%20%20%20%20%20%20%20%7D%0A%20%20%20%20%20%20%20%20%0A%20%20%20%20%20%20%20%20public%20double%20dist%28Tacka%20t%29%20%7B%0A%20%20%20%20%20%20%20%20%20%20%20%20return%20Math.sqrt%28%28t.x%20-%20x%29*%28t.x%20-%20x%29%20%2B%20%28t.y%20-%20y%29*%28t.y%20-%20y%29%29%3B%0A%20%20%20%20%20%20%20%20%7D%0A%20%20%20%20%20%20%20%20%0A%20%20%20%20%7D%0A%20%20%20%20%0A%20%20%20%20static%20class%20Krug%20%7B%0A%20%20%20%20%20%20Tacka%20c%3B%0A%20%20%20%20%20%20double%20r%3B%0A%20%20%20%20%20%20%0A%20%20%20%20%20%20public%20Krug%28double%20r%29%20%7B%0A%20%20%20%20%20%20%20%20c%20%3D%20new%20Tacka%28%29%3B%0A%20%20%20%20%20%20%20%20this.r%20%3D%20r%3B%0A%20%20%20%20%20%20%7D%0A%20%20%20%20%20%20%0A%20%20%20%20%20%20public%20Krug%28double%20r,%20Tacka%20t%29%20%7B%0A%20%20%20%20%20%20%20%20this.r%20%3D%20r%3B%0A%20%20%20%20%20%20%20%20c%20%3D%20t%3B%0A%20%20%20%20%20%20%7D%0A%20%20%20%20%20%20%0A%20%20%20%20%20%20boolean%20isInside%28Tacka%20t%29%20%7B%0A%20%20%20%20%20%20%20%20return%20c.dist%28t%29%20%3C%20r%3B%0A%20%20%20%20%20%20%7D%0A%20%20%20%20%7D%0A%20%20%20%20%0A%20%20%20%20public%20static%20void%20main%28String%5B%5D%20args%29%20%7B%0A%20%20%20%20%20%20Tacka%20t1%20%3D%20new%20Tacka%285,%203%29%3B%0A%20%20%20%20%20%20Tacka%20t2%20%3D%20new%20Tacka%283,%202%29%3B%0A%20%20%20%20%20%20Krug%20k%20%3D%20new%20Krug%281,%20t1%29%3B%0A%20%20%20%20%20%20boolean%20answ%20%3D%20k.isInside%28t2%29%3B%0A%20%20%20%20%7D%0A%7D&cumulative=false&curInstr=0&heapPrimitives=nevernest&mode=display&origin=opt-frontend.js&py=java&rawInputLstJSON=%5B%5D&textReferences=false)"
   ]
  },
  {
   "cell_type": "code",
   "execution_count": 3,
   "metadata": {
    "slideshow": {
     "slide_type": "subslide"
    }
   },
   "outputs": [],
   "source": [
    "class Tacka {\n",
    "    double x;\n",
    "    double y;\n",
    "    \n",
    "    public Tacka(double x, double y) {\n",
    "        this.x = x;\n",
    "        this.y = y;\n",
    "    }\n",
    "    \n",
    "    public Tacka() {\n",
    "        x = 0.;\n",
    "        y = 0.;\n",
    "    }\n",
    "    \n",
    "    public double dist(Tacka t) {\n",
    "        return Math.sqrt((t.x - x)*(t.x - x) + (t.y - y)*(t.y - y));\n",
    "    }\n",
    "    \n",
    "}"
   ]
  },
  {
   "cell_type": "code",
   "execution_count": 4,
   "metadata": {
    "slideshow": {
     "slide_type": "fragment"
    }
   },
   "outputs": [
    {
     "name": "stdout",
     "output_type": "stream",
     "text": [
      "2.23606797749979\n"
     ]
    }
   ],
   "source": [
    "Tacka t1 = new Tacka(5, 6);\n",
    "Tacka t2 = new Tacka(3, 7);\n",
    "System.out.println(t1.dist(t2));"
   ]
  },
  {
   "cell_type": "raw",
   "metadata": {
    "slideshow": {
     "slide_type": "slide"
    }
   },
   "source": [
    "Inicijalne vrednosti:\n",
    "\n",
    "Primitivni tip \t  Default\n",
    "boolean\t\t      false\n",
    "char\t \t\t  ‘\\u0000’\n",
    "byte \t\t      0\n",
    "short \t\t      0\n",
    "int \t\t\t  0\n",
    "long \t\t      0L\n",
    "float \t\t      0.0f\n",
    "double \t\t      0.0d\n",
    "\n",
    "Reference         null\n",
    "\n",
    "Lokalne promenljive nemaju predefinisanu vrednost - upotreba pre inicijalizacije izaziva grešku prilikom kompajliranja.\n"
   ]
  },
  {
   "cell_type": "code",
   "execution_count": 5,
   "metadata": {
    "slideshow": {
     "slide_type": "subslide"
    }
   },
   "outputs": [],
   "source": [
    "class Krug {\n",
    "  Tacka c;\n",
    "  double r;\n",
    "\n",
    "  public Krug(double r) {\n",
    "    c = new Tacka();\n",
    "    this.r = r;\n",
    "  }\n",
    "\n",
    "  public Krug(double r, Tacka t) {\n",
    "    this.r = r;\n",
    "    c = t;\n",
    "  }\n",
    "\n",
    "  boolean isInside(Tacka t) {\n",
    "    return c.dist(t) < r;\n",
    "  }\n",
    "}"
   ]
  },
  {
   "cell_type": "code",
   "execution_count": 6,
   "metadata": {
    "slideshow": {
     "slide_type": "fragment"
    }
   },
   "outputs": [
    {
     "name": "stdout",
     "output_type": "stream",
     "text": [
      "false\n"
     ]
    }
   ],
   "source": [
    "Tacka t1 = new Tacka(5, 3);\n",
    "Tacka t2 = new Tacka(3, 2);\n",
    "Krug k = new Krug(1, t1);\n",
    "boolean b = k.isInside(t2);\n",
    "System.out.println(b);"
   ]
  },
  {
   "cell_type": "markdown",
   "metadata": {
    "slideshow": {
     "slide_type": "notes"
    }
   },
   "source": [
    "Elementi nizova se postavljaju na default vrednosti prilikom kreiranja. [Tutor primer.](http://www.pythontutor.com/java.html#code=public%20class%20YourClassNameHere%20%7B%0A%20%20%20%20public%20static%20void%20main%28String%5B%5D%20args%29%20%7B%0A%20%20%20%20%20%20int%20niz%5B%5D%20%3D%20new%20int%5B3%5D%3B%0A%20%20%20%20%20%20for%28int%20n%20%3A%20niz%29%20%7B%0A%20%20%20%20%20%20%20%20%20%20n%20%3D%205%3B%0A%20%20%20%20%20%20%20%20%20%20System.out.print%28%22%22%29%3B%20//da%20se%20vidi%20promena%0A%20%20%20%20%20%20%7D%0A%20%20%20%20%20%20for%28int%20n%20%3A%20niz%29%0A%20%20%20%20%20%20%20%20%20%20System.out.print%28n%20%2B%20%22%20%22%29%3B%0A%20%20%20%20%20%20System.out.print%28%22%5Cn%22%29%3B%0A%20%20%20%20%20%20%0A%20%20%20%20%20%20for%28int%20i%20%3D%200%3B%20i%20%3C%20niz.length%3B%20%2B%2Bi%29%0A%20%20%20%20%20%20%20%20%20%20niz%5Bi%5D%20%3D%205%3B%0A%20%20%20%20%20%20for%28int%20n%20%3A%20niz%29%0A%20%20%20%20%20%20%20%20%20%20System.out.print%28n%20%2B%20%22%20%22%29%3B%0A%20%20%20%20%20%20System.out.print%28%22%5Cn%22%29%3B%20%0A%20%20%20%20%7D%0A%7D&cumulative=false&curInstr=0&heapPrimitives=nevernest&mode=display&origin=opt-frontend.js&py=java&rawInputLstJSON=%5B%5D&textReferences=false)"
   ]
  },
  {
   "cell_type": "code",
   "execution_count": 7,
   "metadata": {
    "slideshow": {
     "slide_type": "slide"
    }
   },
   "outputs": [
    {
     "name": "stdout",
     "output_type": "stream",
     "text": [
      "0 0 0 0 0 \n",
      "5 5 5 5 5 \n"
     ]
    }
   ],
   "source": [
    "int niz[] = new int[5];\n",
    "for(var n : niz)\n",
    "    n = 5;\n",
    "for(var n : niz)\n",
    "    System.out.print(n + \" \");\n",
    "System.out.print(\"\\n\");\n",
    "\n",
    "for(var i = 0; i < niz.length; ++i)\n",
    "    niz[i] = 5;\n",
    "for(var n : niz)\n",
    "    System.out.print(n + \" \");\n",
    "System.out.print(\"\\n\");    "
   ]
  },
  {
   "cell_type": "markdown",
   "metadata": {
    "slideshow": {
     "slide_type": "notes"
    }
   },
   "source": [
    "Ukoliko imamo niz objekata neke klase, onda će svi elementi niza nakon kreiranja biti *null*. [Tutor primer.](http://www.pythontutor.com/java.html#code=public%20class%20YourClassNameHere%20%7B%0A%20%20%20%20static%20class%20Tenk%20%7B%0A%20%20%20%20%20%20int%20municija%3B%20%0A%20%20%20%20%20%20boolean%20radi%3B%0A%20%20%20%20%20%20%0A%20%20%20%20%20%20public%20Tenk%28%29%20%7B%0A%20%20%20%20%20%20%20%20radi%20%3D%20true%3B%0A%20%20%20%20%20%20%20%20municija%20%3D%20500%3B%0A%20%20%20%20%20%20%7D%0A%20%20%20%20%20%20%0A%20%20%20%20%20%20public%20Tenk%28int%20x%29%20%7B%0A%20%20%20%20%20%20%20%20radi%20%3D%20true%3B%0A%20%20%20%20%20%20%20%20municija%20%3D%20x%3B%0A%20%20%20%20%20%20%7D%0A%20%20%20%20%20%20%0A%20%20%20%20%20%20public%20void%20pucaj%28%29%20%7B%0A%20%20%20%20%20%20%20%20--municija%3B%0A%20%20%20%20%20%20%7D%0A%20%20%20%20%20%20%0A%20%20%20%20%20%20public%20void%20napuni%28int%20x%29%20%7B%0A%20%20%20%20%20%20%20%20if%28municija%20%3C%3D%20500%29%20%7B%0A%20%20%20%20%20%20%20%20%20%20if%28municija%20%2B%20x%20%3E%20500%29%0A%20%20%20%20%20%20%20%20%20%20%20%20municija%20%3D%20500%3B%0A%20%20%20%20%20%20%20%20%20%20else%0A%20%20%20%20%20%20%20%20%20%20%20%20municija%20%2B%3D%20x%3B%20%20%0A%20%20%20%20%20%20%20%20%7D%0A%20%20%20%20%20%20%7D%0A%20%20%20%20%20%20%0A%20%20%20%20%20%20public%20void%20upali%28%29%20%7B%0A%20%20%20%20%20%20%20%20radi%20%3D%20true%3B%0A%20%20%20%20%20%20%7D%0A%20%20%20%20%20%20%0A%20%20%20%20%20%20public%20void%20ugasi%28%29%20%7B%0A%20%20%20%20%20%20%20%20radi%20%3D%20false%3B%0A%20%20%20%20%20%20%7D%0A%20%20%20%20%20%20%0A%20%20%20%20%7D%0A%20%20%20%20%0A%20%20%20%20public%20static%20void%20main%28String%5B%5D%20args%29%20%7B%0A%20%20%20%20%20%20Tenk%20jedinica%5B%5D%20%3D%20new%20Tenk%5B3%5D%3B%0A%20%20%20%20%20%20%0A%20%20%20%20%20%20for%28int%20i%20%3D%200%3B%20i%20%3C%20jedinica.length%3B%20%2B%2Bi%29%0A%20%20%20%20%20%20%20%20jedinica%5Bi%5D%20%3D%20new%20Tenk%28%29%3B%0A%20%20%20%20%20%20%20%20%0A%20%20%20%20%20%20for%28int%20i%20%3D%200%3B%20i%20%3C%20jedinica.length%3B%20%2B%2Bi%29%0A%20%20%20%20%20%20%20%20jedinica%5Bi%5D.pucaj%28%29%3B%0A%20%20%20%20%20%20%0A%20%20%20%20%20%20jedinica%5B0%5D.napuni%2810%29%3B%0A%20%20%20%20%7D%0A%7D&cumulative=false&curInstr=0&heapPrimitives=nevernest&mode=display&origin=opt-frontend.js&py=java&rawInputLstJSON=%5B%5D&textReferences=false)"
   ]
  },
  {
   "cell_type": "code",
   "execution_count": 8,
   "metadata": {
    "slideshow": {
     "slide_type": "subslide"
    }
   },
   "outputs": [],
   "source": [
    "Tacka tovi[] = new Tacka[3];\n",
    "for(var i = 0; i < tovi.length; ++i)\n",
    "    tovi[i] = new Tacka();"
   ]
  },
  {
   "cell_type": "code",
   "execution_count": 9,
   "metadata": {
    "slideshow": {
     "slide_type": "fragment"
    }
   },
   "outputs": [],
   "source": [
    "Tacka tovi[] = {new Tacka(), new Tacka(), new Tacka(5, 3)};"
   ]
  },
  {
   "cell_type": "markdown",
   "metadata": {
    "slideshow": {
     "slide_type": "slide"
    }
   },
   "source": [
    "Svaka klasa ima metodu **String toString()**. Možemo *override*-ovati ovu metodu i definisati izgled ispisa na konzolu za datu klasu. U javi ne postoji destruktor i ručno oslobađanje memorije. Za uništavanje objekata zadužen je garbage collector (gc). gc radi kao poseban proces u pozadini i obavlja automatsku dealokaciju i defragmentaciju memorije. Poziva se po potrebi. Komanda **System.gc()**, je predlog gc-u da započne skupljanhje đubreta (objekata koji nemaju reference koje pokazuju na njega).  Umesto destruktora, možemo napisati metodu **finalize()** koja će se pozvati neposredno pre uništavanja objekta (ne postoji garancija da će se **finalize** ikada pozvati). Čak i sa gc, moguće je doći do curenja memorije. [Tutor](http://www.pythontutor.com/java.html#code=public%20class%20YourClassNameHere%20%7B%0A%20%20%20%20static%20class%20Tocak%20%7B%0A%20%20%20%20%20%20double%20atmosfera%3B%20//pritisak%0A%20%20%20%20%20%20%0A%20%20%20%20%20%20public%20Tocak%28%29%20%7B%0A%20%20%20%20%20%20%20%20atmosfera%20%3D%202%3B%0A%20%20%20%20%20%20%7D%0A%20%20%20%20%20%20%0A%20%20%20%20%20%20public%20void%20pusti%28double%20v%29%20%7B%0A%20%20%20%20%20%20%20%20atmosfera%20-%3D%20v%3B%0A%20%20%20%20%20%20%7D%0A%20%20%20%20%20%20%0A%20%20%20%20%20%20public%20void%20napumpaj%28%29%20%7B%0A%20%20%20%20%20%20%20%20atmosfera%20%3D%202%3B%0A%20%20%20%20%20%20%7D%0A%20%20%20%20%20%20%0A%20%20%20%20%20%20%40Override%0A%20%20%20%20%20%20public%20String%20toString%28%29%20%7B%0A%20%20%20%20%20%20%20%20return%20%22P%3A%20%22%20%2B%20atmosfera%3B%0A%20%20%20%20%20%20%7D%0A%20%20%20%20%20%20%0A%20%20%20%20%20%20%40Override%0A%20%20%20%20%20%20public%20void%20finalize%28%29%20%7B%0A%20%20%20%20%20%20%20%20System.out.println%28%22Finalize%3A%20Tocak%22%29%3B%0A%20%20%20%20%20%20%7D%0A%20%20%20%20%7D%0A%20%20%20%20%0A%20%20%20%20static%20class%20Automobil%20%7B%0A%20%20%20%20%20%20Tocak%20tockovi%5B%5D%3B%0A%20%20%20%20%20%20%0A%20%20%20%20%20%20public%20Automobil%28%29%20%7B%0A%20%20%20%20%20%20%20%20tockovi%20%3D%20new%20Tocak%5B4%5D%3B%0A%20%20%20%20%20%20%20%20for%28int%20i%20%3D%200%3B%20i%20%3C%20tockovi.length%3B%20%2B%2Bi%29%0A%20%20%20%20%20%20%20%20%20%20tockovi%5Bi%5D%20%3D%20new%20Tocak%28%29%3B%0A%20%20%20%20%20%20%7D%0A%20%20%20%20%20%20%0A%20%20%20%20%20%20public%20void%20vozi%28double%20km%29%20%7B%0A%20%20%20%20%20%20%20%20if%28km%20%3E%20500%29%0A%20%20%20%20%20%20%20%20%20%20for%28int%20i%20%3D%200%3B%20i%20%3C%20tockovi.length%3B%20%2B%2Bi%29%0A%20%20%20%20%20%20%20%20%20%20%20%20tockovi%5Bi%5D.pusti%281%29%3B%0A%20%20%20%20%20%20%20%20if%28km%20%3E%20250%29%0A%20%20%20%20%20%20%20%20%20%20for%28int%20i%20%3D%200%3B%20i%20%3C%20tockovi.length%3B%20%2B%2Bi%29%0A%20%20%20%20%20%20%20%20%20%20%20%20tockovi%5Bi%5D.pusti%280.5%29%3B%0A%20%20%20%20%20%20%20%20if%28km%20%3E%20100%29%0A%20%20%20%20%20%20%20%20%20%20for%28int%20i%20%3D%200%3B%20i%20%3C%20tockovi.length%3B%20%2B%2Bi%29%0A%20%20%20%20%20%20%20%20%20%20%20%20tockovi%5Bi%5D.pusti%280.3%29%3B%0A%20%20%20%20%20%20%20%20else%0A%20%20%20%20%20%20%20%20%20%20for%28int%20i%20%3D%200%3B%20i%20%3C%20tockovi.length%3B%20%2B%2Bi%29%0A%20%20%20%20%20%20%20%20%20%20%20%20tockovi%5Bi%5D.pusti%280.1%29%3B%0A%20%20%20%20%20%20%7D%0A%20%20%20%20%20%20%0A%20%20%20%20%20%20%40Override%20%0A%20%20%20%20%20%20public%20String%20toString%28%29%20%7B%0A%20%20%20%20%20%20%20%20String%20r%20%3D%20%22A%28%22%3B%0A%20%20%20%20%20%20%20%20for%28int%20i%20%3D%200%3B%20i%20%3C%20tockovi.length%3B%20%2B%2Bi%29%0A%20%20%20%20%20%20%20%20%20%20r%20%2B%3D%20%28tockovi%5Bi%5D%20%2B%20%22%20%22%29%3B%0A%20%20%20%20%20%20%20%20return%20r%20%2B%20%22%29%22%3B%0A%20%20%20%20%20%20%7D%0A%20%20%20%20%20%20%0A%20%20%20%20%20%20%40Override%20%0A%20%20%20%20%20%20public%20void%20finalize%28%29%20%7B%0A%20%20%20%20%20%20%20%20System.out.println%28%22Finalize%3A%20Auto%22%29%3B%0A%20%20%20%20%20%20%7D%0A%20%20%20%20%7D%0A%20%20%20%20%0A%20%20%20%20public%20static%20void%20main%28String%5B%5D%20args%29%20%7B%0A%20%20%20%20%20%20Automobil%20a%20%3D%20new%20Automobil%28%29%3B%0A%20%20%20%20%20%20a.vozi%28500%29%3B%0A%20%20%20%20%20%20%0A%20%20%20%20%20%20a%20%3D%20new%20Automobil%28%29%3B%0A%20%20%20%20%20%20%0A%20%20%20%20%20%20a.vozi%28100%29%3B%0A%20%20%20%20%20%20%0A%20%20%20%20%20%20//System.gc%28%29%3B%0A%20%20%20%20%20%20%0A%20%20%20%20%20%20//System.out.println%28%22Kraj%20programa%22%29%3B%0A%20%20%20%20%7D%0A%7D&cumulative=false&curInstr=0&heapPrimitives=nevernest&mode=display&origin=opt-frontend.js&py=java&rawInputLstJSON=%5B%5D&textReferences=false)."
   ]
  },
  {
   "cell_type": "code",
   "execution_count": 10,
   "metadata": {
    "slideshow": {
     "slide_type": "subslide"
    }
   },
   "outputs": [],
   "source": [
    "class Tocak {\n",
    "  double atmosfera; //pritisak\n",
    "\n",
    "  public Tocak() {\n",
    "    atmosfera = 2;\n",
    "  }\n",
    "\n",
    "  public void pusti(double v) {\n",
    "    atmosfera -= v;\n",
    "  }\n",
    "\n",
    "  public void napumpaj() {\n",
    "    atmosfera = 2;\n",
    "  }\n",
    "\n",
    "  @Override\n",
    "  public String toString() {\n",
    "    return \"P: \" + atmosfera;\n",
    "  }\n",
    "\n",
    "  @Override\n",
    "  public void finalize() {\n",
    "    System.out.println(\"Finalize: Tocak\");\n",
    "  }\n",
    "}\n",
    "    \n",
    "class Automobil {\n",
    "  Tocak tockovi[];\n",
    "\n",
    "  public Automobil() {\n",
    "    tockovi = new Tocak[4];\n",
    "    for(int i = 0; i < tockovi.length; ++i)\n",
    "      tockovi[i] = new Tocak();\n",
    "  }\n",
    "\n",
    "  public void vozi(double km) {\n",
    "    if(km > 500) {\n",
    "      for(int i = 0; i < tockovi.length; ++i)\n",
    "        tockovi[i].pusti(1);\n",
    "      return;\n",
    "    }\n",
    "    if(km > 250) {\n",
    "      for(int i = 0; i < tockovi.length; ++i)\n",
    "        tockovi[i].pusti(0.5);\n",
    "      return;\n",
    "    }\n",
    "    if(km > 100)\n",
    "      for(int i = 0; i < tockovi.length; ++i)\n",
    "        tockovi[i].pusti(0.3);\n",
    "    else\n",
    "      for(int i = 0; i < tockovi.length; ++i)\n",
    "        tockovi[i].pusti(0.1);\n",
    "  }\n",
    "\n",
    "  @Override \n",
    "  public String toString() {\n",
    "    String r = \"A(\";\n",
    "    for(int i = 0; i < tockovi.length; ++i)\n",
    "      r += (tockovi[i] + \" \");\n",
    "    return r + \")\";\n",
    "  }\n",
    "\n",
    "  @Override \n",
    "  public void finalize() {\n",
    "    System.out.println(\"Finalize: Auto\");\n",
    "  }\n",
    "}"
   ]
  },
  {
   "cell_type": "code",
   "execution_count": 11,
   "metadata": {
    "slideshow": {
     "slide_type": "subslide"
    }
   },
   "outputs": [
    {
     "name": "stdout",
     "output_type": "stream",
     "text": [
      "A(P: 2.0 P: 2.0 P: 2.0 P: 2.0 )\n",
      "A(P: 1.0 P: 1.0 P: 1.0 P: 1.0 )\n",
      "A(P: 2.0 P: 2.0 P: 2.0 P: 2.0 )\n",
      "Finalize: Tocak\n",
      "Finalize: Tocak\n",
      "Finalize: Auto\n",
      "Finalize: Tocak\n",
      "Finalize: Tocak\n",
      "Kraj programa\n"
     ]
    }
   ],
   "source": [
    "Automobil a = new Automobil();\n",
    "System.out.println(a);\n",
    "a.vozi(501);\n",
    "System.out.println(a);\n",
    "\n",
    "a = new Automobil();\n",
    "System.out.println(a);\n",
    "\n",
    "System.gc();\n",
    "\n",
    "System.out.println(\"Kraj programa\");"
   ]
  },
  {
   "cell_type": "markdown",
   "metadata": {
    "slideshow": {
     "slide_type": "slide"
    }
   },
   "source": [
    "Da bi kopirali neki objekat, potrebno je *override*-ovati metodu **Klasa copy() {...}**, koja će napraviti kopiju objekta. Sve promenljive se kopiraju po vrednosti, pa i reference. Ukoliko imamo referencu na neki objekat, pozivom funkcije **copy** dobićemo novu referencu koja pokazuje na isti objekat (**shallow copy**). Ukoliko želimo **deep copy**, moramo kopirati sve elemente objekte i napraviti nove reference koji pokazuju na ove objekte. "
   ]
  },
  {
   "cell_type": "markdown",
   "metadata": {
    "slideshow": {
     "slide_type": "fragment"
    }
   },
   "source": [
    "Ključna reč **static** Definiše statičke atribute i metode. Statički atributi i metode postoje i bez kreiranje objekta - zato im se može pristupiti preko imena klase. Statički atributi imaju istu vrednost u svim objektima\n",
    "ako promenim statički atribut u jednom objektu, on će se promeniti i kod svih ostalih objekata. Namena statičkih metoda jeste pristup i rad sa statičkim atributima, i enkapsulacija algoritama opšte namene, za rad sa objektima i opšte metode za koje nije potrebno da se kreira objekat. "
   ]
  },
  {
   "cell_type": "code",
   "execution_count": 15,
   "metadata": {
    "slideshow": {
     "slide_type": "subslide"
    }
   },
   "outputs": [],
   "source": [
    "class X {\n",
    "    static public int x;\n",
    "    static public void printX() {\n",
    "        System.out.println(x);\n",
    "    }\n",
    "}"
   ]
  },
  {
   "cell_type": "code",
   "execution_count": 16,
   "metadata": {
    "slideshow": {
     "slide_type": "fragment"
    }
   },
   "outputs": [
    {
     "name": "stdout",
     "output_type": "stream",
     "text": [
      "7\n"
     ]
    }
   ],
   "source": [
    "X.printX();"
   ]
  },
  {
   "cell_type": "code",
   "execution_count": 17,
   "metadata": {
    "slideshow": {
     "slide_type": "subslide"
    }
   },
   "outputs": [
    {
     "name": "stdout",
     "output_type": "stream",
     "text": [
      "7 <-> 7\n"
     ]
    }
   ],
   "source": [
    "X x = new X();\n",
    "X y = new X();\n",
    "x.x = 5;\n",
    "y.x = 7;\n",
    "System.out.println(x.x + \" <-> \" + y.x);"
   ]
  },
  {
   "cell_type": "markdown",
   "metadata": {
    "slideshow": {
     "slide_type": "fragment"
    }
   },
   "source": [
    "Primeri statičkih metoda i atributa su Math.random(), Math.cos(), Math.PI, System.out.println()..."
   ]
  }
 ],
 "metadata": {
  "celltoolbar": "Slideshow",
  "kernelspec": {
   "display_name": "Java",
   "language": "java",
   "name": "java"
  },
  "language_info": {
   "codemirror_mode": "java",
   "file_extension": ".jshell",
   "mimetype": "text/x-java-source",
   "name": "Java",
   "pygments_lexer": "java",
   "version": "13.0.2+8"
  }
 },
 "nbformat": 4,
 "nbformat_minor": 2
}
