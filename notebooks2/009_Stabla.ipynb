{
 "cells": [
  {
   "cell_type": "markdown",
   "metadata": {},
   "source": [
    "# RAuT2\n",
    "## Stabla\n",
    "\n",
    "#### Aleksandar Minja <br> Novembar 2019"
   ]
  },
  {
   "cell_type": "markdown",
   "metadata": {},
   "source": []
  },
  {
   "cell_type": "code",
   "execution_count": 9,
   "metadata": {},
   "outputs": [],
   "source": [
    "%maven org.graphstream:gs-core:1.3\n",
    "import org.graphstream.graph.*;\n",
    "import org.graphstream.graph.implementations.*;"
   ]
  },
  {
   "cell_type": "code",
   "execution_count": 10,
   "metadata": {},
   "outputs": [
    {
     "data": {
      "text/plain": [
       "CA[C--A]"
      ]
     },
     "execution_count": 10,
     "metadata": {},
     "output_type": "execute_result"
    }
   ],
   "source": [
    "Graph graph = new SingleGraph(\"Tutorial 1\");\n",
    "graph.addNode(\"A\" );\n",
    "graph.addNode(\"B\" );\n",
    "graph.addNode(\"C\" );\n",
    "graph.addEdge(\"AB\", \"A\", \"B\");\n",
    "graph.addEdge(\"BC\", \"B\", \"C\");\n",
    "graph.addEdge(\"CA\", \"C\", \"A\");"
   ]
  },
  {
   "cell_type": "code",
   "execution_count": 11,
   "metadata": {},
   "outputs": [
    {
     "data": {
      "text/plain": [
       "org.graphstream.ui.view.Viewer@4c8b83d6"
      ]
     },
     "execution_count": 11,
     "metadata": {},
     "output_type": "execute_result"
    }
   ],
   "source": [
    "graph.display();"
   ]
  },
  {
   "cell_type": "code",
   "execution_count": null,
   "metadata": {},
   "outputs": [],
   "source": []
  }
 ],
 "metadata": {
  "kernelspec": {
   "display_name": "Java",
   "language": "java",
   "name": "java"
  },
  "language_info": {
   "codemirror_mode": "java",
   "file_extension": ".jshell",
   "mimetype": "text/x-java-source",
   "name": "Java",
   "pygments_lexer": "java",
   "version": "12.0.2+10"
  }
 },
 "nbformat": 4,
 "nbformat_minor": 2
}
