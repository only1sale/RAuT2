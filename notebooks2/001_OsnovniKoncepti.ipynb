{
 "cells": [
  {
   "cell_type": "markdown",
   "metadata": {
    "slideshow": {
     "slide_type": "slide"
    }
   },
   "source": [
    "# RAuT2\n",
    "## Osnovni koncepti\n",
    "\n",
    "#### Aleksandar Minja <br> Oktobar 2019"
   ]
  },
  {
   "cell_type": "markdown",
   "metadata": {
    "slideshow": {
     "slide_type": "slide"
    }
   },
   "source": [
    "## Primitivni tipovi podataka"
   ]
  },
  {
   "cell_type": "raw",
   "metadata": {
    "slideshow": {
     "slide_type": "fragment"
    }
   },
   "source": [
    "   boolean        ?        –         –\t\n",
    "   char         16-bit   Unic0     Unic 216- 1\n",
    "   byte         8-bit    -128      +127\t \n",
    "   short        16-bit   -215      +215 – 1\t\n",
    "   int          32-bit   -231      +231 – 1\t\n",
    "   long         64-bit   -263      +263 – 1\n",
    "   float        32-bit   IEEE754   IEEE754\t\n",
    "   double       64-bit   IEEE754   IEEE754\t\n",
    "   void           –        –          –\t"
   ]
  },
  {
   "cell_type": "markdown",
   "metadata": {
    "slideshow": {
     "slide_type": "slide"
    }
   },
   "source": [
    "## Literali"
   ]
  },
  {
   "cell_type": "code",
   "execution_count": null,
   "metadata": {
    "slideshow": {
     "slide_type": "fragment"
    }
   },
   "outputs": [],
   "source": [
    "boolean a = true;       //false\n",
    "char    b = 'č';        //'\\n', '\\xxx', gde je xxx oktalni ASCII kod\n",
    "byte    c = 0b1001101;  //17, 128 \n",
    "short   d = 0123;       //127\n",
    "int     e = 412312312;   //0xFF\n",
    "long    f = 100003l;    \n",
    "float   g = 3.14321f;   //3.14\n",
    "double  h = 3.1415927e2;\n",
    "String  s = \"RAuT2\";    // i stringovi \"RAuT2\", String nije primitivan..."
   ]
  },
  {
   "cell_type": "markdown",
   "metadata": {
    "slideshow": {
     "slide_type": "slide"
    }
   },
   "source": [
    "## Ispis na ekran"
   ]
  },
  {
   "cell_type": "code",
   "execution_count": null,
   "metadata": {
    "slideshow": {
     "slide_type": "fragment"
    }
   },
   "outputs": [],
   "source": [
    "System.out.print(\"Boolean: \");\n",
    "System.out.println(a);\n",
    "System.out.printf(\"Ovo je char: %c\\n\",b);\n",
    "System.out.println(\"Celobrojne vrednosti: \" + c + \" \" + d + \" \" + e + \" \" + f);\n",
    "System.out.printf(\"Realne vrednosti: %.2f \\t %.4f \\n\", g, h);\n",
    "System.out.printf(\"String: %s\\n\", s);"
   ]
  },
  {
   "cell_type": "markdown",
   "metadata": {
    "slideshow": {
     "slide_type": "subslide"
    }
   },
   "source": [
    "## Printf"
   ]
  },
  {
   "cell_type": "code",
   "execution_count": null,
   "metadata": {
    "slideshow": {
     "slide_type": "fragment"
    }
   },
   "outputs": [],
   "source": [
    "//Format: %[prefiks][širina][.preciznost]tip\n",
    "//    \n",
    "//Prefiks: + ili –\n",
    "//    kada je +, rezultat prikazuje i znak (i pozitivan i negativan)\n",
    "//    kada je -, rezultat je poravnat na levu stranu\n"
   ]
  },
  {
   "cell_type": "code",
   "execution_count": null,
   "metadata": {
    "slideshow": {
     "slide_type": "subslide"
    }
   },
   "outputs": [],
   "source": [
    "//Širina: broj cifara\n",
    "//       [širina]¦ Kako utiče na preciznost\n",
    "//     ---------+--------------------------------------------------------\n",
    "//         n     ¦ Štampa zadati broj cifara.\n",
    "//         0n    ¦ Štampa zadati broj cifara. \n",
    "//               ¦ Ako broj nema toliko cifara, sa leve se popunjava nulama.\n",
    "//         ' 'n  | Štampa zadati broj cifara, sa leve popunjava razmacima."
   ]
  },
  {
   "cell_type": "code",
   "execution_count": null,
   "metadata": {
    "slideshow": {
     "slide_type": "subslide"
    }
   },
   "outputs": [],
   "source": [
    "//   Tip  ¦ Očekivan ulaz  ¦ Format rezultat\n",
    "//  ------------------------------------------------------------------------------\n",
    "//     b  ¦ Boolean        ¦ Boolean\n",
    "//     d  ¦ Integer        ¦ Signed decimal integer\n",
    "//     o  ¦ Integer        ¦ Unsigned octal integer\n",
    "//     u  ¦ Integer        ¦ Unsigned decimal integer\n",
    "//     h,x¦ Integer        ¦ Unsigned hexadecimal int (with a, b, c, d, e, f)\n",
    "//     H,X¦ Integer        ¦ Unsigned hexadecimal int (with A, B, C, D, E, F)\n",
    "//     f  ¦ Floating point ¦ Signed value oblika [-]dddd.dddd.\n",
    "//     e  ¦ Floating point ¦ Signed value oblika [-]d.dddd or e[+/-]ddd\n",
    "//     g  ¦ Floating point ¦ Kraći zapis od %f i %e\n",
    "//     E  ¦ Floating point ¦ Isto kao e; samo ima ‘E’ za eksponent\n",
    "//     G  ¦ Floating point ¦ Isto kao e; samo ima ‘E’ za eksponent ako je e format\n",
    "//     c  ¦ Character      ¦ Jedno slovo\n",
    "//     s  ¦ String         ¦ Štampa string do kraja ili do zadatog broja slova\n",
    "//     %  ¦ Ništa          ¦ Štampa znak %\n",
    "//  ------------------------------------------------------------------------------"
   ]
  },
  {
   "cell_type": "markdown",
   "metadata": {
    "slideshow": {
     "slide_type": "slide"
    }
   },
   "source": [
    "## Automatska dedukcija tipa (var)"
   ]
  },
  {
   "cell_type": "code",
   "execution_count": null,
   "metadata": {
    "slideshow": {
     "slide_type": "fragment"
    }
   },
   "outputs": [],
   "source": [
    "var a = 5;\n",
    "var b = 32312412L;\n",
    "var c = 3.14e-2;\n",
    "var d = true;\n",
    "var f = \"RAuT\";"
   ]
  },
  {
   "cell_type": "code",
   "execution_count": null,
   "metadata": {
    "slideshow": {
     "slide_type": "subslide"
    }
   },
   "outputs": [],
   "source": [
    "System.out.printf(\"%d\\n\",a);\n",
    "System.out.printf(\"%d\\n\",b);\n",
    "System.out.printf(\"%f\\n\",c);\n",
    "System.out.printf(\"%b\\n\",d);\n",
    "System.out.printf(\"%s\\n\",f);"
   ]
  },
  {
   "cell_type": "code",
   "execution_count": null,
   "metadata": {
    "slideshow": {
     "slide_type": "fragment"
    }
   },
   "outputs": [],
   "source": [
    "System.out.printf(\"%d\\n\",c); //print float as int"
   ]
  },
  {
   "cell_type": "markdown",
   "metadata": {
    "slideshow": {
     "slide_type": "slide"
    }
   },
   "source": [
    "## Konstante - final"
   ]
  },
  {
   "cell_type": "code",
   "execution_count": null,
   "metadata": {
    "slideshow": {
     "slide_type": "fragment"
    }
   },
   "outputs": [],
   "source": [
    "final var xx = 5;"
   ]
  },
  {
   "cell_type": "markdown",
   "metadata": {
    "slideshow": {
     "slide_type": "slide"
    }
   },
   "source": [
    "## Konverzija tipova"
   ]
  },
  {
   "cell_type": "markdown",
   "metadata": {
    "slideshow": {
     "slide_type": "subslide"
    }
   },
   "source": [
    "### Implicitna - samo kad nema gubitka informacije"
   ]
  },
  {
   "cell_type": "code",
   "execution_count": null,
   "metadata": {
    "slideshow": {
     "slide_type": "fragment"
    }
   },
   "outputs": [],
   "source": [
    "int    x = 5;\n",
    "long   y = x;\n",
    "double z = y;"
   ]
  },
  {
   "cell_type": "code",
   "execution_count": null,
   "metadata": {
    "slideshow": {
     "slide_type": "fragment"
    }
   },
   "outputs": [],
   "source": [
    "int k = y;"
   ]
  },
  {
   "cell_type": "code",
   "execution_count": null,
   "metadata": {
    "slideshow": {
     "slide_type": "fragment"
    }
   },
   "outputs": [],
   "source": [
    "float j = z;"
   ]
  },
  {
   "cell_type": "markdown",
   "metadata": {
    "slideshow": {
     "slide_type": "subslide"
    }
   },
   "source": [
    "### Eksplicitna konverzija - može doći do gubitka informacije"
   ]
  },
  {
   "cell_type": "code",
   "execution_count": null,
   "metadata": {
    "slideshow": {
     "slide_type": "fragment"
    }
   },
   "outputs": [],
   "source": [
    "int   k = (int)   y; //operator kastovanja\n",
    "float j = (float) z; //operator kastovanja"
   ]
  },
  {
   "cell_type": "markdown",
   "metadata": {
    "slideshow": {
     "slide_type": "slide"
    }
   },
   "source": [
    "## Unos sa tastature"
   ]
  },
  {
   "cell_type": "code",
   "execution_count": null,
   "metadata": {
    "slideshow": {
     "slide_type": "fragment"
    }
   },
   "outputs": [],
   "source": [
    "var in = new BufferedReader(new InputStreamReader(System.in));\n",
    "System.out.print(\"Unesite vaše ime: \");\n",
    "var x = in.readLine();\n",
    "System.out.println(\"Pozdrav \" + x);"
   ]
  },
  {
   "cell_type": "code",
   "execution_count": null,
   "metadata": {
    "slideshow": {
     "slide_type": "fragment"
    }
   },
   "outputs": [],
   "source": [
    "System.out.println(\"Unesi ceo broj: \");\n",
    "var x = Integer.parseInt(in.readLine());\n",
    "System.out.printf(\"%d\\n\",x);"
   ]
  },
  {
   "cell_type": "markdown",
   "metadata": {
    "slideshow": {
     "slide_type": "subslide"
    }
   },
   "source": [
    "## Scanner - za čitanje drugih vrednosti"
   ]
  },
  {
   "cell_type": "code",
   "execution_count": null,
   "metadata": {
    "slideshow": {
     "slide_type": "fragment"
    }
   },
   "outputs": [],
   "source": [
    "var in = new Scanner(System.in);\n",
    "System.out.print(\"Unesi ceo broj\");\n",
    "var x = in.nextInt();\n",
    "System.out.println(x + 7);\n",
    "System.out.print(\"Unesi realni broj\");\n",
    "var y = in.nextFloat();\n",
    "System.out.println(y + 7);\n"
   ]
  },
  {
   "cell_type": "code",
   "execution_count": null,
   "metadata": {
    "slideshow": {
     "slide_type": "subslide"
    }
   },
   "outputs": [],
   "source": [
    "System.out.print(\"Unesi proizvoljni string: \");\n",
    "var z = in.nextLine();\n",
    "System.out.println(\"Uneli ste: \" + z);"
   ]
  },
  {
   "cell_type": "markdown",
   "metadata": {
    "slideshow": {
     "slide_type": "subslide"
    }
   },
   "source": [
    "## Klasa Console"
   ]
  },
  {
   "cell_type": "code",
   "execution_count": null,
   "metadata": {
    "slideshow": {
     "slide_type": "fragment"
    }
   },
   "outputs": [],
   "source": [
    "//var c = System.console();\n",
    "//var x = c.readLine(\"Unesite korisnicko ime: \");\n",
    "//var y = c.readPassword(\"Unesite sifru: \");\n",
    "//System.out.println(\"Dobrodosli \" + x + \" \" + y);"
   ]
  },
  {
   "cell_type": "markdown",
   "metadata": {
    "slideshow": {
     "slide_type": "notes"
    }
   },
   "source": [
    "System.console je konzola JAVA virtualne mašine, pa se ne može koristiti izunutar razvojnog okruženja, bez posebnih podešavanja. Jupyter i IJava za sad ne podržavaju ovaj kod."
   ]
  }
 ],
 "metadata": {
  "celltoolbar": "Slideshow",
  "kernelspec": {
   "display_name": "Java",
   "language": "java",
   "name": "java"
  },
  "language_info": {
   "codemirror_mode": "java",
   "file_extension": ".jshell",
   "mimetype": "text/x-java-source",
   "name": "Java",
   "pygments_lexer": "java",
   "version": "13.0.2+8"
  }
 },
 "nbformat": 4,
 "nbformat_minor": 2
}
