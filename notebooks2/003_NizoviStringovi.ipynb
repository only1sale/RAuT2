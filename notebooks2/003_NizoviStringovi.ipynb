{
 "cells": [
  {
   "cell_type": "markdown",
   "metadata": {
    "slideshow": {
     "slide_type": "slide"
    }
   },
   "source": [
    "# RAuT2\n",
    "## Nizovi i stringovi\n",
    "\n",
    "#### Aleksandar Minja <br> Oktobar 2019"
   ]
  },
  {
   "cell_type": "markdown",
   "metadata": {
    "slideshow": {
     "slide_type": "slide"
    }
   },
   "source": [
    "### Nizovi"
   ]
  },
  {
   "cell_type": "markdown",
   "metadata": {
    "slideshow": {
     "slide_type": "fragment"
    }
   },
   "source": [
    "Niz se uvek alocira na heap-u (kreira se pomoću operator **new**). Operator **new** vraća referencu na objekat na heap-u (za razliku od C++-a gde **new** vraća pokazivač na memoriju). Prilikom deklaracije, sve vrednosti niza su postavljene na 0. Svaki niz ima atribut *.length*, koji predstavlja broj elemenata niza. [Primer na python tutoru](http://www.pythontutor.com/java.html#code=public%20class%20YourClassNameHere%20%7B%0A%20%20%20%20public%20static%20void%20main%28String%5B%5D%20args%29%20%7B%0A%20%20%20%20%20%20int%20niz%5B%5D%3B%0A%20%20%20%20%20%20niz%20%3D%20new%20int%5B5%5D%3B%0A%20%20%20%20%20%20%0A%20%20%20%20%20%20niz%5B0%5D%20%3D%201%3B%0A%20%20%20%20%20%20niz%5B2%5D%20%3D%203%3B%0A%20%20%20%20%20%20niz%5B4%5D%20%3D%205%3B%0A%20%20%20%20%20%20%0A%20%20%20%20%20%20int%20niz2D%5B%5D%5B%5D%20%3D%20%7B%20%7B1,%202,%203%7D,%20%0A%20%20%20%20%20%20%20%20%20%20%20%20%20%20%20%20%20%20%20%20%20%20%20%20%7B4,%205,%206%7D%20%7D%3B%0A%20%20%20%20%20%20%20%20%20%20%20%20%20%20%20%20%20%20%20%20%20%20%20%20%0A%20%20%20%20%20%20int%20y%5B%5D%5B%5D%20%3D%20new%20int%5B3%5D%5B%5D%3B%0A%20%20%20%20%20%20for%28int%20i%20%3D%200%3B%20i%20%3C%20y.length%3B%20%2B%2Bi%29%0A%20%20%20%20%20%20%20%20y%5Bi%5D%20%3D%20new%20int%5B3%20%2B%20i%5D%3B%0A%20%20%20%20%7D%0A%7D&cumulative=false&curInstr=0&heapPrimitives=nevernest&mode=display&origin=opt-frontend.js&py=java&rawInputLstJSON=%5B%5D&textReferences=false)"
   ]
  },
  {
   "cell_type": "code",
   "execution_count": null,
   "metadata": {
    "slideshow": {
     "slide_type": "fragment"
    }
   },
   "outputs": [],
   "source": [
    "int niz[]; // jos uvek nije kreiran niz\n",
    "niz = new int[5]; // niz od 5 nula"
   ]
  },
  {
   "cell_type": "code",
   "execution_count": null,
   "metadata": {
    "slideshow": {
     "slide_type": "fragment"
    }
   },
   "outputs": [],
   "source": [
    "for(var i = 0; i < niz.length; ++i)\n",
    "    System.out.println(niz[i]);"
   ]
  },
  {
   "cell_type": "markdown",
   "metadata": {
    "slideshow": {
     "slide_type": "subslide"
    }
   },
   "source": [
    "Nizovi se inicijalizuju slično kao u C++. Prilikom inicijalizacije, nije potrebno reći dimenziju niza, već će JAVA sama zaključiti broj elemenata. Za iteriranje kroz niz može da se koristi for-each petlja ( **for(var v: niz) {}**: pri čemu v predstavlja referencu na tekući elemenat u nizu)."
   ]
  },
  {
   "cell_type": "code",
   "execution_count": null,
   "metadata": {
    "slideshow": {
     "slide_type": "fragment"
    }
   },
   "outputs": [],
   "source": [
    "int x[] = {7,9,5};\n",
    "for(var l : x) {\n",
    "    l += 7;\n",
    "    System.out.println(l);\n",
    "}"
   ]
  },
  {
   "cell_type": "markdown",
   "metadata": {
    "slideshow": {
     "slide_type": "subslide"
    }
   },
   "source": [
    "Dvodimenzionalni nizovi se predstavljaju kao nizovi nizova. Slično je moguće konstruisati i više-dimenzionalne nizove."
   ]
  },
  {
   "cell_type": "code",
   "execution_count": null,
   "metadata": {
    "slideshow": {
     "slide_type": "fragment"
    }
   },
   "outputs": [],
   "source": [
    "for(var l : x) {\n",
    "    System.out.println(l);\n",
    "}"
   ]
  },
  {
   "cell_type": "code",
   "execution_count": null,
   "metadata": {
    "slideshow": {
     "slide_type": "subslide"
    }
   },
   "outputs": [],
   "source": [
    "for(var i = 0; i < x.length; ++i) {\n",
    "    x[i] += 7;\n",
    "    //int l = x[i];\n",
    "    //l += 7;\n",
    "}\n",
    "for(var l : x) {\n",
    "    System.out.println(l);\n",
    "}"
   ]
  },
  {
   "cell_type": "code",
   "execution_count": null,
   "metadata": {
    "slideshow": {
     "slide_type": "subslide"
    }
   },
   "outputs": [],
   "source": [
    "int x[][] = {{1,2,3},{4,5,6}};"
   ]
  },
  {
   "cell_type": "code",
   "execution_count": null,
   "metadata": {
    "slideshow": {
     "slide_type": "fragment"
    }
   },
   "outputs": [],
   "source": [
    "for(var xx : x) {\n",
    "    for(var yy : xx)\n",
    "        System.out.print(yy + \" \");\n",
    "        \n",
    "    System.out.print(\"\\n\");\n",
    "}"
   ]
  },
  {
   "cell_type": "markdown",
   "metadata": {
    "slideshow": {
     "slide_type": "subslide"
    }
   },
   "source": [
    "Dvodimenzionalni niz se može kreirati i postupno. Takođe je moguće napraviti niz koji ima različiti broj \"kolona\" u svakoj \"vrsti\"."
   ]
  },
  {
   "cell_type": "code",
   "execution_count": null,
   "metadata": {
    "slideshow": {
     "slide_type": "fragment"
    }
   },
   "outputs": [],
   "source": [
    "int y[][] = new int[3][];\n",
    "for(var i = 0; i < y.length; ++i)\n",
    "    y[i] = new int[3 + i];"
   ]
  },
  {
   "cell_type": "code",
   "execution_count": null,
   "metadata": {
    "slideshow": {
     "slide_type": "fragment"
    }
   },
   "outputs": [],
   "source": [
    "for(var yy : y) {\n",
    "    for(var yyy: yy)\n",
    "        System.out.print(yyy + \" \");\n",
    "    System.out.print(\"\\n\");\n",
    "}"
   ]
  },
  {
   "cell_type": "markdown",
   "metadata": {
    "slideshow": {
     "slide_type": "slide"
    }
   },
   "source": [
    "### Stringovi"
   ]
  },
  {
   "cell_type": "markdown",
   "metadata": {
    "slideshow": {
     "slide_type": "fragment"
    }
   },
   "source": [
    "String nije samo niz znakova, već je klasa za rukovanje sa stringovima, koja sadrži veliki broj metoda, poput:\n",
    "* length() - vraća dužinu stringa\n",
    "* substring(a,b) - vraća pod string od elementa a do elementa b\n",
    "* substring(a) - vraća pod string od elementa a do kraja stringa\n",
    "* equals(str) - upoređuje dati string sa stringom str\n",
    "* equalsIgnoreCase(str) - slično kao equals, ali zanemaruje mala i velika slova\n",
    "* toUpperCase() - samo velika slova\n",
    "* toLowerCase() - samo mala slova\n",
    "* split(*regex*) - vraća niz podstringova koji su prekinuti na mestu *regex*\n",
    "\n",
    "Operaor \"+\" radi konkatenaciju dva stringa. Objekti klase string se ne mogu menjati (oni su immutable). Ne možemo promeniti slovo (pa samim tim ne možemo pristupiti elementu stringa pomoću operatora []). Da bi pročitali element na indexu *i*, koristimo metodu charAt(*i*). "
   ]
  },
  {
   "cell_type": "code",
   "execution_count": null,
   "metadata": {
    "slideshow": {
     "slide_type": "subslide"
    }
   },
   "outputs": [],
   "source": [
    "String x = \"RAuT2 is not just JAVA\";\n",
    "System.out.println(x.charAt(0) + \" \" + x.charAt(2));"
   ]
  },
  {
   "cell_type": "code",
   "execution_count": null,
   "metadata": {
    "slideshow": {
     "slide_type": "fragment"
    }
   },
   "outputs": [],
   "source": [
    "String []y = x.toUpperCase().split(\"J\");\n",
    "for(var yy : y)\n",
    "    System.out.println(yy);"
   ]
  },
  {
   "cell_type": "code",
   "execution_count": null,
   "metadata": {},
   "outputs": [],
   "source": []
  }
 ],
 "metadata": {
  "celltoolbar": "Slideshow",
  "kernelspec": {
   "display_name": "Java",
   "language": "java",
   "name": "java"
  },
  "language_info": {
   "codemirror_mode": "java",
   "file_extension": ".jshell",
   "mimetype": "text/x-java-source",
   "name": "Java",
   "pygments_lexer": "java",
   "version": "13.0.2+8"
  }
 },
 "nbformat": 4,
 "nbformat_minor": 2
}
