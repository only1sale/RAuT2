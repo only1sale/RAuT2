{
 "cells": [
  {
   "cell_type": "markdown",
   "metadata": {},
   "source": [
    "# RAuT2\n",
    "## Sortiranje - 2\n",
    "\n",
    "#### Aleksandar Minja <br> Novembar 2019"
   ]
  },
  {
   "cell_type": "markdown",
   "metadata": {},
   "source": [
    "U prošlom predavanju smo videli da možemo dizajnirati algoritam za sortiranje čija je kompleksnost $\\Theta(N \\log N)$. Takođe smo videli da insertion sort ima kompleksnost $\\Theta(N^2)$. Upotrebom binarne pretrage, možemo smanjiti broj poređenja na $\\Theta(N \\log N)$, ali broj pomeraja je i dalje $\\Theta(N^2)$. "
   ]
  },
  {
   "cell_type": "markdown",
   "metadata": {},
   "source": [
    "### Merge Sort\n",
    "\n",
    "Jedan od najznačajnih algoritama za sortiranje jeste Merge sort (sr. sortiranje spajanjem) algoritam, koji deli niz na podnizove dužine $1$ (koji se smatraju da su sortirani), i zatim rekurzivno spaja podnizove u veće sortirane podnizove, sve dok ne dobije sortirani niz dužine $N$.\n",
    "\n",
    "![](https://upload.wikimedia.org/wikipedia/commons/thumb/e/e6/Merge_sort_algorithm_diagram.svg/1236px-Merge_sort_algorithm_diagram.svg.png)"
   ]
  },
  {
   "cell_type": "markdown",
   "metadata": {},
   "source": [
    "Merge sort procedura je veoma jednostavna:\n",
    "1. ako je ulaz niz dužine 1, vrati niz, \n",
    "2. u suportnom podeli niz na dva podniza i rekurzivno pozovi proceduru za svaki od njih.  \n",
    "3. spoji dva podniza i vrati rezultat\n",
    "\n",
    "Centralni deo algoritma jeste `merge` procedura."
   ]
  },
  {
   "cell_type": "code",
   "execution_count": null,
   "metadata": {},
   "outputs": [],
   "source": [
    "var x = new int[10];\n",
    "var r = new Random();\n",
    "for(var i = 0; i < 10; ++i)\n",
    "    x[i] = r.nextInt(10);\n",
    "\n",
    "for(var xx : x)\n",
    "    System.out.print(xx + \" \");\n",
    "    \n",
    "int[] y = Arrays.copyOfRange(x, 0, 3);\n",
    "\n",
    "System.out.print(\"\\n\");\n",
    "for(var yy : y)\n",
    "    System.out.print(yy + \" \");"
   ]
  },
  {
   "cell_type": "code",
   "execution_count": null,
   "metadata": {},
   "outputs": [],
   "source": [
    "int[] merge(int L[], int R[]) {\n",
    "    var sl = L.length; //size left\n",
    "    var sr = R.length; //size right\n",
    "    \n",
    "    int res[] = new int[sl + sr];\n",
    "    \n",
    "    var cntL = 0; //count left\n",
    "    var cntR = 0; //count right\n",
    "    for(var i = 0; i < sl + sr; ++i) {\n",
    "        if(cntL < sl && cntR < sr)\n",
    "            if(L[cntL] < R[cntR])\n",
    "                res[i] = L[cntL++];\n",
    "            else\n",
    "                res[i] = R[cntR++];\n",
    "        else\n",
    "            if(cntL < sl)\n",
    "                res[i] = L[cntL++];\n",
    "            else\n",
    "                res[i] = R[cntR++];\n",
    "    }\n",
    "    \n",
    "    return res;\n",
    "}"
   ]
  },
  {
   "cell_type": "code",
   "execution_count": null,
   "metadata": {},
   "outputs": [],
   "source": [
    "import java.util.Arrays; \n",
    "int[] mergeSort(int[] arr) {\n",
    "    if(arr.length == 1)\n",
    "        return arr;\n",
    "    \n",
    "    int m = arr.length/2; \n",
    "            \n",
    "    var L = mergeSort(Arrays.copyOfRange(arr, 0, m));\n",
    "    var R = mergeSort(Arrays.copyOfRange(arr, m, arr.length));\n",
    "        \n",
    "    return merge(L, R);\n",
    "}"
   ]
  },
  {
   "cell_type": "code",
   "execution_count": null,
   "metadata": {},
   "outputs": [],
   "source": [
    "var a = mergeSort(x);"
   ]
  },
  {
   "cell_type": "code",
   "execution_count": null,
   "metadata": {},
   "outputs": [],
   "source": [
    "for(var aa : a)\n",
    "    System.out.print(aa + \" \");"
   ]
  },
  {
   "cell_type": "markdown",
   "metadata": {},
   "source": [
    "Merge procedura spaja dva podniza u veći niz i ima kompleksnost $\\Theta(N)$. Kako svaki put delimo niz na dva podniza, ukupna kompleksnost je $\\Theta(N \\log N)$.\n",
    "\n",
    "$$T(N) = \\Theta(1) + 2\\cdot T(N/2) + \\Theta(N)$$\n",
    "\n",
    "Da li možemo da ubrzamo merge rutinu upotrebom binarne pretrage?"
   ]
  },
  {
   "cell_type": "markdown",
   "metadata": {},
   "source": [
    "### QuickSort\n",
    "\n",
    "Slično kao i Merge Sort, i ovaj algoritam deli problem sortiranja na manje podprobleme i onda njih rešava. QuickSort je veoma značajan algoritam koji se koristi u većini programskih jezika. Osnovna ideja QuickSort algoritma jeste da odaberemo jedan element - *pivot* i zatim da poređamo sve manje elemente sa njegove leve strane, a sve veće elemente sa desne strane - ova operacija se zove **partition**, i radi se u linearnom vremenu. Postoji nekoliko načina da odaberemo pivot, npr:\n",
    "1. Uvek biramo najveći element\n",
    "2. Uvek biramo najmanji element\n",
    "3. Biramo element na slučaj \n",
    "4. Biramo medijan\n",
    "\n",
    "![](https://www.geeksforgeeks.org/wp-content/uploads/gq/2014/01/QuickSort2.png)"
   ]
  },
  {
   "cell_type": "code",
   "execution_count": null,
   "metadata": {},
   "outputs": [],
   "source": [
    "var x = new int[10];\n",
    "for(var i = 0; i < 10; ++i)\n",
    "    x[i] = r.nextInt(10);\n",
    "\n",
    "for(var xx : x)\n",
    "    System.out.print(xx + \" \");\n"
   ]
  },
  {
   "cell_type": "code",
   "execution_count": null,
   "metadata": {},
   "outputs": [],
   "source": [
    "void swap(int x[], int i, int j) {\n",
    "    var pom = x[i];\n",
    "    x[i] = x[j];\n",
    "    x[j] = pom;\n",
    "}\n",
    "\n",
    "int partition(int arr[], int lo, int hi) {\n",
    "    var pivot = arr[hi];\n",
    "    var i = lo - 1;\n",
    "    for(var j = lo; j < hi; ++j) {\n",
    "        if(arr[j] < pivot){\n",
    "            ++i;\n",
    "            swap(arr, i, j);\n",
    "        }\n",
    "    }\n",
    "    swap(arr, i + 1, hi);\n",
    "    return i + 1;\n",
    "}"
   ]
  },
  {
   "cell_type": "code",
   "execution_count": null,
   "metadata": {},
   "outputs": [],
   "source": [
    "void quickSort(int x[], int lo, int hi) {\n",
    "    if(lo < hi){\n",
    "        var p = partition(x, lo, hi);\n",
    "        quickSort(x, lo, p - 1);\n",
    "        quickSort(x, p + 1, hi);\n",
    "    }\n",
    "}"
   ]
  },
  {
   "cell_type": "code",
   "execution_count": null,
   "metadata": {},
   "outputs": [],
   "source": [
    "quickSort(x, 0, x.length - 1);\n",
    "for(var xx : x)\n",
    "    System.out.print(xx + \" \");"
   ]
  },
  {
   "cell_type": "markdown",
   "metadata": {},
   "source": [
    "Kolika je komplkesnost quickSort algoritma?\n",
    "Od čega zavisi kompleksnost? \n",
    "\n",
    "$$T(N) = T(k) + T(N-K-1) + \\Theta(N)$$\n",
    "\n",
    "U gornjoj formuli, k predstavlja indeks pivota."
   ]
  },
  {
   "cell_type": "markdown",
   "metadata": {},
   "source": [
    "Ukoliko uvek biramo najveći ili najmanji element za pivota, tada imamo:\n",
    "\n",
    "$$T(N) = T(0) + T(N-1) + \\Theta(N)$$\n",
    "\n",
    "Ukoliko uvek biramo srednji element u nizu, imamo:\n",
    "\n",
    "$$T(N) = 2 \\cdot T(N/2) + \\Theta(N)$$\n",
    "\n",
    "Kako je moguće ubrzati QuickSort algoritam?"
   ]
  },
  {
   "cell_type": "markdown",
   "metadata": {},
   "source": [
    "### TimSort\n",
    "\n",
    "Izmisljen 1993, a prvi put implementiran 2004 za potrebe python programskog jezika. Danas je glavni algoritam za sortiranje nizova u JAVA i python programskom jeziku. TimSort kombinuje insertion sort i merge sort algoritme, tako što niz delije na male podnizove, unapred definisane dužine, koji se nazivaju run-s, koje zatim sortira pomoću insertion sort algoritma. Nakon sortiranja, iterativno spaja manje podnizove u veće pomoću **merge** procedure. Insertion sort, iako ima $\\Theta(N^2)$ kompleksnost, veoma je efikasan za sortiranje malih nizova, dok je **merge** veoma efikasan za spajanje dva sortirana podniza u novi sortirani niz.\n",
    "\n"
   ]
  },
  {
   "cell_type": "code",
   "execution_count": null,
   "metadata": {},
   "outputs": [],
   "source": [
    "void insertionSort(int x[], int l, int h) {\n",
    "    for (var i = l + 1; i <= h; i++)  \n",
    "    { \n",
    "        var key = x[i];\n",
    "        var j = i - 1;\n",
    "\n",
    "        while(j >= l && x[j] > key){\n",
    "            x[j+1] = x[j];\n",
    "            --j;\n",
    "        }\n",
    "        x[j+1] = key;\n",
    "    }\n",
    "}\n",
    "\n",
    "void merge(int arr[], int l, int m, int r) { \n",
    "    int n1 = m - l + 1; \n",
    "    int n2 = r - m; \n",
    "\n",
    "    int L[] = new int [n1]; \n",
    "    int R[] = new int [n2]; \n",
    "\n",
    "    for (int i=0; i<n1; ++i) \n",
    "        L[i] = arr[l + i]; \n",
    "    for (int j=0; j<n2; ++j) \n",
    "        R[j] = arr[m + 1+ j]; \n",
    "\n",
    "    int i = 0, j = 0; \n",
    "\n",
    "    int k = l; \n",
    "    while (i < n1 && j < n2) \n",
    "    { \n",
    "        if (L[i] <= R[j]) \n",
    "        { \n",
    "            arr[k] = L[i]; \n",
    "            i++; \n",
    "        } \n",
    "        else\n",
    "        { \n",
    "            arr[k] = R[j]; \n",
    "            j++; \n",
    "        } \n",
    "        k++; \n",
    "    } \n",
    "\n",
    "    while (i < n1) \n",
    "    { \n",
    "        arr[k] = L[i]; \n",
    "        i++; \n",
    "        k++; \n",
    "    } \n",
    "\n",
    "    while (j < n2) \n",
    "    { \n",
    "        arr[k] = R[j]; \n",
    "        j++; \n",
    "        k++; \n",
    "    } \n",
    "}"
   ]
  },
  {
   "cell_type": "code",
   "execution_count": null,
   "metadata": {},
   "outputs": [],
   "source": [
    "var x = new int[32];\n",
    "for(var i = 0; i < 32; ++i)\n",
    "    x[i] = r.nextInt(10);\n",
    "\n",
    "for(var xx : x)\n",
    "    System.out.print(xx + \" \");"
   ]
  },
  {
   "cell_type": "code",
   "execution_count": null,
   "metadata": {},
   "outputs": [],
   "source": [
    "var RUN = 4;\n",
    "for (int i = 0; i < x.length; i += RUN)  \n",
    "{ \n",
    "    insertionSort(x, i, Math.min((i + RUN-1), (x.length - 1))); \n",
    "} \n",
    "\n",
    "for (int size = RUN; size < x.length; size = 2 * size)  \n",
    "{ \n",
    "    for (int left = 0; left < x.length; left += 2 * size)  \n",
    "    { \n",
    "        int mid = left + size - 1; \n",
    "        int right = Math.min((left + 2 * size - 1), (x.length - 1)); \n",
    "        \n",
    "        merge(x, left, mid, right); \n",
    "    } \n",
    "} \n",
    "\n",
    "for(var xx : x)\n",
    "    System.out.print(xx + \" \");"
   ]
  },
  {
   "cell_type": "markdown",
   "metadata": {},
   "source": [
    "Ako je dužina run-a $R$, konstanta, tada je kompleksnost insertion sort koraka \n",
    "\n",
    "$$O\\left(L\\cdot L \\cdot \\frac{N}{L}\\right) = O(L\\cdot N) = O(N)$$\n",
    "\n",
    "Merge procedura takođe ima linearnu kompleksnost. \n",
    "\n",
    "Koliko puta će se pozvati merge procedura? \n",
    "\n",
    "Koja je kompleksnost TimSort algoritma?\n",
    "\n"
   ]
  },
  {
   "cell_type": "markdown",
   "metadata": {},
   "source": [
    "#### Reference i slike:\n",
    "1. https://en.wikipedia.org/wiki/Merge_sort\n",
    "2. https://www.geeksforgeeks.org/merge-sort/\n",
    "3. https://www.geeksforgeeks.org/iterative-merge-sort/\n",
    "4. https://www.geeksforgeeks.org/quick-sort/\n",
    "5. https://www.geeksforgeeks.org/iterative-quick-sort/\n",
    "6. https://www.geeksforgeeks.org/timsort/"
   ]
  }
 ],
 "metadata": {
  "kernelspec": {
   "display_name": "Java",
   "language": "java",
   "name": "java"
  },
  "language_info": {
   "codemirror_mode": "java",
   "file_extension": ".jshell",
   "mimetype": "text/x-java-source",
   "name": "Java",
   "pygments_lexer": "java",
   "version": "12.0.2+10"
  }
 },
 "nbformat": 4,
 "nbformat_minor": 2
}
